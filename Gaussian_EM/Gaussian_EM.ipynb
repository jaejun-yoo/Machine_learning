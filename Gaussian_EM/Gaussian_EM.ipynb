{
 "cells": [
  {
   "cell_type": "code",
   "execution_count": 1,
   "metadata": {
    "collapsed": true
   },
   "outputs": [],
   "source": [
    "import numpy as np\n",
    "import matplotlib.pyplot as plt\n",
    "import math"
   ]
  },
  {
   "cell_type": "code",
   "execution_count": 2,
   "metadata": {
    "collapsed": true
   },
   "outputs": [],
   "source": [
    "def gaussian_funiction_single(x, mu=0 ,sigma=1):\n",
    "    '''\n",
    "    input \n",
    "        x : float\n",
    "    return\n",
    "        gaussian probility of x which mean is mu, stddev = sigma\n",
    "    '''\n",
    "    return math.exp(-1*(x-mu)*(x-mu)/2/sigma/sigma)/sigma/math.sqrt(2*math.pi)\n",
    "        \n",
    "def gaussian_funiction(x, mu=0 ,sigma=1):\n",
    "    '''\n",
    "    input\n",
    "        x : list or numpy of float\n",
    "    return\n",
    "        gaussian probility of x which mean is mu, stddev = sigma\n",
    "    \n",
    "    '''\n",
    "    if type(x) == list:\n",
    "        x = np.array(x)\n",
    "    if type(x).__module__==np.__name__:\n",
    "        a = np.zeros(len(x))\n",
    "        for i in range(len(x)):\n",
    "            a[i] = gaussian_funiction_single(x[i],mu,sigma)\n",
    "        return a\n",
    "    else :\n",
    "        return gaussian_funiction_single(x, mu, sigma)\n",
    "    \n",
    "def random_sample(length, Min, Max):\n",
    "    '''return random seqeunce each value located between Min and Max'''\n",
    "    return Min+(Max-Min)*np.random.rand(int(length))\n",
    "\n",
    "def normalizer(x):\n",
    "    '''\n",
    "    input : \n",
    "        x 1D array\n",
    "    return :\n",
    "        1D array normalized for the sum of it to be 1\n",
    "    '''\n",
    "    temp = np.zeros(len(x))\n",
    "    sum = 0\n",
    "    for i in range(len(x)):\n",
    "        sum += x[i]\n",
    "    for i in range(len(x)):\n",
    "        temp[i]=x[i]/sum\n",
    "    return temp\n",
    "\n",
    "def random_choice(states, p):\n",
    "    '''\n",
    "    input : \n",
    "        states = int\n",
    "        p = positive 1D array length(=states)\n",
    "    return :\n",
    "        select between 0 ~ (states-1) according to probability distribution p\n",
    "    \n",
    "    '''\n",
    "    if states != len(p):\n",
    "        raise WrongstatesError\n",
    "    r = np.random.rand()*np.sum(p)\n",
    "    for i in range(states):\n",
    "        r-=p[i]\n",
    "        if r<=0:\n",
    "            return i\n",
    "\n",
    "def random_row_generator(x, uniform = False):\n",
    "    '''\n",
    "    input :\n",
    "        x = int\n",
    "        uniform = boolean default to be false\n",
    "    \n",
    "    return :\n",
    "        unifrom = True\n",
    "            return x length unifrom 1D array\n",
    "        uniform = False\n",
    "            return x length random 1D array \n",
    "    \n",
    "    '''\n",
    "    if uniform:\n",
    "         return normalizer(np.ones(x))\n",
    "    return normalizer(np.random.rand(x))\n"
   ]
  },
  {
   "cell_type": "markdown",
   "metadata": {},
   "source": [
    "# Gaussian Mixture Model initial problem setting"
   ]
  },
  {
   "cell_type": "code",
   "execution_count": 3,
   "metadata": {
    "collapsed": true
   },
   "outputs": [],
   "source": [
    "def GM_initialization(mean_range, std_range, number, uniform = False):\n",
    "    means =random_sample(number, -mean_range,mean_range)\n",
    "    stddevs = random_sample(number,0, std_range)\n",
    "    weights = random_row_generator(number, uniform)\n",
    "    return {'weights' : weights, 'means' : means, 'stddevs' : stddevs}\n",
    "\n",
    "def print_setting(setting):\n",
    "    '''\n",
    "    print every variabels in Gaussian mixture model defined by setting\n",
    "    '''\n",
    "    print(\"Weights\")\n",
    "    print(setting['weights'])\n",
    "    print(\"Means\")\n",
    "    print(setting['means'])\n",
    "    print(\"Stddevs\")\n",
    "    print(setting['stddevs'])"
   ]
  },
  {
   "cell_type": "markdown",
   "metadata": {},
   "source": [
    "# Observation data generators "
   ]
  },
  {
   "cell_type": "code",
   "execution_count": 5,
   "metadata": {
    "collapsed": false
   },
   "outputs": [],
   "source": [
    "def data_generator(sample_number, GM_setting):   \n",
    "    '''\n",
    "    input:\n",
    "        sample_number : number of samples\n",
    "        GM_setting : setting represents Gaussian Mixture model\n",
    "    return : \n",
    "        Generate 'sample_number' of datas according to 'GM_setting'\n",
    "    '''  \n",
    "    nclusters = len(GM_setting['weights'])\n",
    "    temp = np.zeros(sample_number)\n",
    "    for i in range(sample_number):\n",
    "        cluster = random_choice(nclusters, GM_setting['weights'])\n",
    "        temp[i] = GM_setting['stddevs'][cluster]*np.random.randn()+GM_setting['means'][cluster]\n",
    "    return temp"
   ]
  },
  {
   "cell_type": "markdown",
   "metadata": {},
   "source": [
    "# Learning problem\n",
    "    x0,x2,..,x(n-1) (sampled data)\n",
    "    c0,c2,...,c(m-1) (Gaussian Clusters)\n",
    "    expected[i][j] = P(cj|xi)"
   ]
  },
  {
   "cell_type": "code",
   "execution_count": 12,
   "metadata": {
    "collapsed": false
   },
   "outputs": [],
   "source": [
    "def Expectation(observed_datas, GM_setting):\n",
    "    '''\n",
    "    input :\n",
    "        observed_datas = 1D array sequence of observed datas\n",
    "        GM_setting : setting represents Gaussian Mixture model         \n",
    "    return :\n",
    "        expected[i][j](=P(cj|xi))\n",
    "    '''\n",
    "    nclusters = len(GM_setting['weights'])\n",
    "    ndatas = len(observed_datas)\n",
    "    expected= np.zeros((ndatas, nclusters))\n",
    "    \n",
    "    for i in range(ndatas):\n",
    "        for j in range(nclusters):\n",
    "            expected[i][j] = GM_setting['weights'][j]*gaussian_funiction_single(observed_datas[i], GM_setting['means'][j], GM_setting['stddevs'][j])\n",
    "        expected[i] = normalizer(expected[i])\n",
    "    return expected"
   ]
  },
  {
   "cell_type": "code",
   "execution_count": 13,
   "metadata": {
    "collapsed": false
   },
   "outputs": [
    {
     "name": "stdout",
     "output_type": "stream",
     "text": [
      "[[  8.36203131e-003   6.48282289e-035   9.91637969e-001]\n",
      " [  3.49714826e-045   1.00000000e+000   1.94453268e-272]\n",
      " [  2.56197102e-051   1.00000000e+000   1.80141061e-306]\n",
      " [  2.85722222e-047   1.00000000e+000   6.34526612e-284]\n",
      " [  2.37240581e-049   1.00000000e+000   1.80421055e-295]]\n"
     ]
    }
   ],
   "source": [
    "print(Expectation(data_generator(5,setting), setting))"
   ]
  },
  {
   "cell_type": "code",
   "execution_count": 23,
   "metadata": {
    "collapsed": false
   },
   "outputs": [],
   "source": [
    "def Maximization(observed_datas, expectation):\n",
    "    '''\n",
    "    input :\n",
    "        observed_datas = 1D array sequence of observed datas\n",
    "        expectation : 2D array(ndatas*nclusters)\n",
    "    return :\n",
    "        New parameters which maximizes the probabilit of observed datas based on the expectation\n",
    "    '''\n",
    "    ndatas, nclusters = expectation.shape\n",
    "    \n",
    "    means = np.zeros(nclusters)\n",
    "    stddevs = np.zeros(nclusters)\n",
    "    weights = np.zeros(nclusters)\n",
    "    \n",
    "    for j in range(nclusters):\n",
    "        for i in range(ndatas):\n",
    "            weights[j] += expectation[i][j]\n",
    "        weights[j]/=ndatas\n",
    "    \n",
    "    for j in range(nclusters):\n",
    "        temp1 = 0\n",
    "        temp2 = 0\n",
    "        for i in range(ndatas):\n",
    "            temp1+= observed_datas[i]*expectation[i][j]\n",
    "            temp2+= expectation[i][j]\n",
    "        means[j] = temp1/temp2\n",
    "    \n",
    "    for j in range(nclusters):\n",
    "        temp1 = 0\n",
    "        temp2 = 0\n",
    "        for i in range(ndatas):\n",
    "            temp1 += (observed_datas[i] - means[j])*(observed_datas[i] - means[j])*expectation[i][j]\n",
    "            temp2 += expectation[i][j]\n",
    "        stddevs[j] = math.sqrt(temp1/temp2)\n",
    "        \n",
    "    return {'weights' : weights, 'means' : means, 'stddevs' : stddevs}b"
   ]
  },
  {
   "cell_type": "code",
   "execution_count": 34,
   "metadata": {
    "collapsed": true
   },
   "outputs": [],
   "source": [
    "def calculate_log_probability(observed_datas, GM_setting):\n",
    "    '''\n",
    "    input:\n",
    "        sample_number : number of samples\n",
    "        GM_setting : setting represents Gaussian Mixture model\n",
    "    return : \n",
    "        \n",
    "    '''\n",
    "    p = 0\n",
    "    \n",
    "    nclusters = len(GM_setting['weights'])\n",
    "    ndatas = len(observed_datas)\n",
    "    \n",
    "    for i in range(ndatas):\n",
    "        temp = 0\n",
    "        for j in range(nclusters):\n",
    "            temp+=GM_setting['weights'][j]*gaussian_funiction_single(observed_datas[i], GM_setting['means'][j], GM_setting['stddevs'][j])\n",
    "        p += math.log(temp)\n",
    "    \n",
    "    return p"
   ]
  },
  {
   "cell_type": "markdown",
   "metadata": {},
   "source": [
    "# Generate observed datas"
   ]
  },
  {
   "cell_type": "code",
   "execution_count": 43,
   "metadata": {
    "collapsed": false
   },
   "outputs": [
    {
     "name": "stdout",
     "output_type": "stream",
     "text": [
      "Weights\n",
      "[ 0.42585453  0.03463495  0.53951052]\n",
      "Means\n",
      "[-0.90326953 -4.26577148  4.01803455]\n",
      "Stddevs\n",
      "[ 0.4189955   0.04781419  0.6046283 ]\n",
      "Weights\n",
      "[ 0.0332      0.53990004  0.42689996]\n",
      "Means\n",
      "[-4.26672244  4.00876775 -0.9080126 ]\n",
      "Stddevs\n",
      "[ 0.04766073  0.602322    0.41751771]\n"
     ]
    },
    {
     "data": {
      "image/png": "[encoded data removed]",
      "text/plain": [
       "<matplotlib.figure.Figure at 0x7fba11bbdda0>"
      ]
     },
     "metadata": {},
     "output_type": "display_data"
    }
   ],
   "source": [
    "# Fixed\n",
    "number = 3\n",
    "\n",
    "# Answer setting\n",
    "mean_range = 5\n",
    "stddev_range = 1 \n",
    "number = 3\n",
    "answer_setting = GM_initialization(mean_range, stddev_range, number)\n",
    "print_setting(answer_setting)\n",
    "\n",
    "# Data generate\n",
    "nsamples = 10000\n",
    "observed = data_generator(nsamples, answer_setting)\n",
    "challenge_probability = calculate_log_probability(observed, answer_setting)\n",
    "\n",
    "#print(observed)\n",
    "\n",
    "# User setting\n",
    "mean_range = 10\n",
    "stddev_range = 5 \n",
    "\n",
    "learning_setting = GM_initialization(mean_range, stddev_range, number)\n",
    "iteration = 40\n",
    "\n",
    "probability = []\n",
    "probability.append(calculate_log_probability(observed,learning_setting))\n",
    "for iter in range(iteration):\n",
    "    learning_setting = Maximization(observed, Expectation(observed, learning_setting))\n",
    "    probability.append(calculate_log_probability(observed,learning_setting))\n",
    "    if abs(probability[iter]-probability[iter+1])<1:\n",
    "        break;\n",
    "probability = np.array(probability)\n",
    "print_setting(learning_setting)\n",
    "plt.plot(probability,'bo')\n",
    "plt.axhline(y=challenge_probability, xmin=0, xmax=len(probability) - 1, linewidth=2, color = 'k')\n",
    "plt.title(\"EM on Gaussian trackin\")\n",
    "plt.ylabel(\"logliklihood probability\")\n",
    "plt.xlabel(\"iteration steps\")\n",
    "plt.show()"
   ]
  }
 ],
 "metadata": {
  "kernelspec": {
   "display_name": "Python 3",
   "language": "python",
   "name": "python3"
  },
  "language_info": {
   "codemirror_mode": {
    "name": "ipython",
    "version": 3
   },
   "file_extension": ".py",
   "mimetype": "text/x-python",
   "name": "python",
   "nbconvert_exporter": "python",
   "pygments_lexer": "ipython3",
   "version": "3.6.0"
  }
 },
 "nbformat": 4,
 "nbformat_minor": 2
}
