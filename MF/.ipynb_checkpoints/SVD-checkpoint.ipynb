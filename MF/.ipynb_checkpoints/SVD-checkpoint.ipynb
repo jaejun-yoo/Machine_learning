{
 "cells": [
  {
   "cell_type": "markdown",
   "metadata": {},
   "source": [
    "# Singular value decomposition"
   ]
  },
  {
   "cell_type": "markdown",
   "metadata": {},
   "source": [
    "matrix $A\\in \\mathbb{C}^{m\\times n}$  "
   ]
  },
  {
   "cell_type": "markdown",
   "metadata": {},
   "source": [
    "$$A^{*}= \\overline{A^T}$$\n",
    "$(A^{*}A)^{*} = A^*A$"
   ]
  },
  {
   "cell_type": "markdown",
   "metadata": {},
   "source": [
    "### Note\n",
    "The proof is almost same with real matrixes. Therefore, only consider the real matrixes"
   ]
  },
  {
   "cell_type": "markdown",
   "metadata": {},
   "source": [
    "### Given\n",
    "matrix $A\\in \\mathbb{R}^{m\\times n}$  \n",
    "$A = m\\times n$ matrix,  $rank(A) = n \\Rightarrow rank(A^TA) = n, nullity(A^TA) = 0 $"
   ]
  },
  {
   "cell_type": "markdown",
   "metadata": {},
   "source": [
    "#### Step1\n",
    "$A^TA$ is a symmetric matrix  \n",
    "$\\therefore \\hspace{0.2cm}  A^TA(n\\times n \\mathrm{matrix})$ \n",
    "is orthogonal digonalizable  \n",
    "$A^TA$ is a positive definite and $\\lambda_i > 0$  \n",
    "$$\\because \\hspace{0.2cm} x^TA^TAx=(Ax)^TAx=||Ax||$$"
   ]
  },
  {
   "cell_type": "markdown",
   "metadata": {},
   "source": [
    "#### Step2\n",
    "There is orthonormal base\n",
    "$[v_1, v_2, \\cdots, v_n]$  \n",
    "\n",
    "$$\\sigma_i = ||Av_i||= \\sqrt{v_i^TA^TAv_i}$$\n",
    "$$=\\sqrt{v_i^T\\lambda_iv_i}=\\sqrt{\\lambda_i}$$"
   ]
  },
  {
   "cell_type": "markdown",
   "metadata": {},
   "source": [
    "#### Step3\n",
    "$u_i = \\frac{Av_i}{\\sigma_i}$ Then, $u_i$ are orthonormal\n",
    "\n",
    "$$u_i^Tu_i =  \\frac{v_i^TA^TAv_i}{\\sigma_i^2}$$\n",
    "$$= \\frac{v_i^T\\lambda_iv_i}{\\sigma_i^2}=1$$\n",
    "$$u_j^Tu_i =  \\frac{v_j^TA^TAv_i}{\\sigma_i\\sigma_j}$$\n",
    "$$= \\frac{\\lambda_i v_j^Tv_i}{\\sigma_i\\sigma_j}=0$$"
   ]
  },
  {
   "cell_type": "markdown",
   "metadata": {},
   "source": [
    "#### Step4\n",
    "$$V = [v_1, \\cdots, v_n]$$\n",
    "$$U = [u_1, \\cdots, u_n]$$\n",
    "$$AV = U\\begin{bmatrix}\\sigma_1 & &\\\\ & \\ddots \\\\ & & \\sigma_n \\end{bmatrix}$$\n",
    "$$ A = U\\Sigma V^T$$"
   ]
  },
  {
   "cell_type": "code",
   "execution_count": 1,
   "metadata": {
    "collapsed": true
   },
   "outputs": [],
   "source": [
    "import numpy as np"
   ]
  },
  {
   "cell_type": "code",
   "execution_count": 2,
   "metadata": {
    "collapsed": true
   },
   "outputs": [],
   "source": [
    "w, v= np.linalg.eig(np.array([[1, -1],[1,1]]))"
   ]
  },
  {
   "cell_type": "code",
   "execution_count": 3,
   "metadata": {
    "collapsed": false
   },
   "outputs": [
    {
     "name": "stdout",
     "output_type": "stream",
     "text": [
      "[ 1.+1.j  1.-1.j]\n",
      "[[ 0.70710678+0.j          0.70710678-0.j        ]\n",
      " [ 0.00000000-0.70710678j  0.00000000+0.70710678j]]\n"
     ]
    }
   ],
   "source": [
    "print(w)\n",
    "print(v)"
   ]
  }
 ],
 "metadata": {
  "kernelspec": {
   "display_name": "Python 3",
   "language": "python",
   "name": "python3"
  },
  "language_info": {
   "codemirror_mode": {
    "name": "ipython",
    "version": 3
   },
   "file_extension": ".py",
   "mimetype": "text/x-python",
   "name": "python",
   "nbconvert_exporter": "python",
   "pygments_lexer": "ipython3",
   "version": "3.6.0"
  }
 },
 "nbformat": 4,
 "nbformat_minor": 2
}
