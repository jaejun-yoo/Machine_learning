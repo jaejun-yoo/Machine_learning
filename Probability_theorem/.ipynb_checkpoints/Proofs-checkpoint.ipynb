{
 "cells": [
  {
   "cell_type": "markdown",
   "metadata": {},
   "source": [
    "# Random Variable\n",
    "a function from sample space to a real number"
   ]
  },
  {
   "cell_type": "markdown",
   "metadata": {},
   "source": [
    "# E[x] property on addition\n",
    "$$E[X] = \\int_{-\\infty}^{\\infty}xp_X(x) dx$$\n",
    "  \n",
    "$$E[X+Y] = \\int_{-\\infty}^{\\infty}\\int_{-\\infty}^{\\infty}(x+y)p(x,y) dxdy$$  \n",
    "  \n",
    "$$ = \\int_{-\\infty}^{\\infty}x \\Big{(}\\int_{-\\infty}^{\\infty}p(x,y) dy\\Big{)}dx+\n",
    "\\int_{-\\infty}^{\\infty}y \\Big{(}\\int_{-\\infty}^{\\infty}p(x,y) dx\\Big{)}dy$$\n",
    "  \n",
    "\n",
    "$$ = \\int_{-\\infty}^{\\infty}x p_X(x)dx+\n",
    "\\int_{-\\infty}^{\\infty}y p_Y(y)dy=E[X]+E[Y]$$"
   ]
  },
  {
   "cell_type": "markdown",
   "metadata": {},
   "source": [
    "# Var[X] property on addition\n",
    "$$Var[X+Y] = E[(X+Y-E[X]-E[Y])^2]$$\n",
    "$$= E[(X-E[X])^2+(Y-E[Y])^2+2(X-E[X])(Y-E[Y])]$$\n",
    "$$= E[(X-E[X])^2]+E[(Y-E[Y])^2]+2E[(X-E[X])(Y-E[Y])]$$  \n",
    "$$= Var[X]+Var[Y]+2Cov(X,Y)$$"
   ]
  },
  {
   "cell_type": "markdown",
   "metadata": {},
   "source": [
    "For two random variables $X, Y$, define $Z = X+Y$\n",
    "\n",
    "$$P(Z=z)=P(X+Y=z)=\\int_{-\\infty}^{\\infty} p_X(x)p_Y(z-x)dx=(p_X*p_Y)(z)$$  \n",
    "$*$ is so called convolution"
   ]
  },
  {
   "cell_type": "markdown",
   "metadata": {},
   "source": [
    "# Independence\n",
    "$X,Y$ are independent $\\Leftrightarrow p(x,y)=p_X(x)p_Y(y)$"
   ]
  },
  {
   "cell_type": "markdown",
   "metadata": {},
   "source": [
    "$$E[XY] = \\int_{-\\infty}^{\\infty}\\int_{-\\infty}^{\\infty}xyp(x,y) dxdy$$  \n",
    "$$= \\int_{-\\infty}^{\\infty}\\int_{-\\infty}^{\\infty}xyp_X(x)p_Y(y) dxdy$$  \n",
    "$$ = \\int_{-\\infty}^{\\infty}xp_X(x)dx\\int_{-\\infty}^{\\infty}yp_Y(y)dy$$  \n",
    "  \n",
    "$$ = E[X]E[Y]$$"
   ]
  },
  {
   "cell_type": "markdown",
   "metadata": {},
   "source": [
    "$$Cov(X,Y) = E[(X-E[X])(Y-E[Y])] = E[XY]-E[X]E[Y] = 0$$\n",
    "$$ \\therefore Var[X+Y] = Var[X] + Var[Y] + 2Cov(X,Y) = Var[X] + Var[Y]$$"
   ]
  },
  {
   "cell_type": "markdown",
   "metadata": {},
   "source": [
    "# Sample \n",
    "for random variable $X$, $E[X] = \\mu$, and $V[X]=E[(X-\\mu)^2]$  \n",
    "*samples* $x_1, x_2, \\cdots, x_n$  \n",
    "*sample mean* $\\bar{x} = \\frac{1}{n}(x_1+x_2+\\cdots+x_n)$\n",
    "\n",
    "$E[x_i] =\\mu $ for ($i = 1,\\cdots, n$)\n",
    "Suppose that $x_i$ follows identical and independent distribution of random variable $X$\n",
    "$$E[\\bar{x}] = E[\\frac{1}{n}\\sum_{i=1}^nx_i] = \\frac{1}{n}\\sum_{i=1}^n E[x_i] = \\mu$$\n",
    "\n",
    "$$Var[\\bar{x}] = Var[\\frac{1}{n}\\sum_{i=1}^nx_i] = \\frac{1}{n^2}V[\\sum_{i=1}^n x_i] = \\frac{1}{n^2}\\sum_{i=1}^n V[x_i]  = \\frac{\\sigma^2}{n}$$"
   ]
  },
  {
   "cell_type": "markdown",
   "metadata": {},
   "source": [
    "for finite set size $N$ with the each random variable is $\\{x_1,\\cdots,x_N\\}$"
   ]
  },
  {
   "cell_type": "markdown",
   "metadata": {},
   "source": [
    "$$E[\\bar{x}]=\\frac{{{N-1}\\choose{n-1}}\\sum_{i=1}^{N}x_i}{{N}\\choose{n}}=\\frac{1}{N}\\sum_{i=1}^{N}x_i=\\mu$$"
   ]
  },
  {
   "cell_type": "markdown",
   "metadata": {},
   "source": [
    "$$Var[\\bar{x}]=\\frac{\\sum(\\frac{1}{n}\\sum x_i-\\mu)^2}{{N}\\choose{n}}\n",
    "=\\frac{1}{n^2}\\frac{\\sum(\\sum x_i-n\\mu)^2}{{N}\\choose{n}}\n",
    "=\\frac{1}{n^2}\\frac{\\sum(\\sum (x_i-\\mu))^2}{{N}\\choose{n}}$$\n",
    "$$\n",
    "=\\frac{1}{n^2}\\frac{{{N-1}\\choose{n-1}}\\sum_{i=1}^{N}(x_i-\\mu)^2 + {{N-2}\\choose{n-2}}\\sum_{i,j}2(x_i-\\mu)(x_j-\\mu)}{{N}\\choose{n}}\n",
    "$$"
   ]
  },
  {
   "cell_type": "markdown",
   "metadata": {},
   "source": [
    "## Lemma\n",
    "$$2\\sum_{i,j}(x_i-\\mu)(x_j-\\mu) =2\\sum_{i,j}x_ix_j -2\\sum_{i,j}(x_i+x_j)\\mu+2\\sum_{i,j}\\mu^2$$\n",
    "  \n",
    "$$=2\\sum_{i,j}x_ix_j -2\\sum_{i,j}(x_i+x_j)\\mu+2\\frac{N(N-1)}{2}\\mu^2$$\n",
    "  \n",
    "$$=(\\sum_{i=1}^Nx_i)^2 - \\sum_{i=1}^Nx_i^2 -2\\mu\\sum_{i,j}(x_i+x_j)+2\\frac{N(N-1)}{2}\\mu^2$$\n",
    "  \n",
    "$$=N^2\\mu^2 - N\\mu^2 - N\\sigma^2 -2(N-1)\\mu(\\sum_{i=1}^Nx_i)+2\\frac{N(N-1)}{2}\\mu^2$$\n",
    "\n",
    "$$=-N\\sigma^2$$"
   ]
  },
  {
   "cell_type": "markdown",
   "metadata": {},
   "source": [
    "## Final remark\n",
    "$$Var[\\bar{x}]=\\frac{1}{n^2}\\frac{{{N-1}\\choose{n-1}}N\\sigma^2 - {{N-2}\\choose{n-2}}N\\sigma^2}{{N}\\choose{n}}$$  \n",
    "  \n",
    "$$=\\frac{N\\sigma^2}{n^2}\\frac{{{N-1}\\choose{n-1}} - {{N-2}\\choose{n-2}}}{{N}\\choose{n}}$$\n",
    "  \n",
    "$$=\\frac{N\\sigma^2}{n^2}\\frac{n(N-1-n+1)}{N(N-1)} $$\n",
    "  \n",
    "$$=\\frac{N\\sigma^2}{n^2}\\frac{n(N-n)}{N(N-1)} $$\n",
    "\n",
    "$$=\\frac{(N-n)}{(N-1)}\\frac{\\sigma^2}{n}$$"
   ]
  },
  {
   "cell_type": "markdown",
   "metadata": {},
   "source": [
    "## Remind\n",
    "for random variable $X$, $E[X] = \\mu$, and $V[X]=E[(X-\\mu)^2]$  \n",
    "*samples* $x_1, x_2, \\cdots, x_n$  \n",
    "$x_i$ is sampled from identical independent distribution  \n",
    "*sample mean* $\\bar{x} = \\frac{1}{n}(x_1+x_2+\\cdots+x_n)$  \n",
    "# The estimator of variance\n",
    "$$S^2 = \\frac{1}{n-1}\\sum_{i=1}^{n}(X_i-\\bar{X})^2$$ \n",
    "$$E[S^2] = \\frac{1}{n-1}E[\\sum_{i=1}^{n}(X_i-\\bar{X})^2]$$\n",
    "$$ = \\frac{1}{n-1}E[\\sum_{i=1}^{n}X_i^2+\\sum_{i=1}^{n}\\bar{X}^2-2\\sum_{i=1}^{n}X_i\\bar{X}]$$\n",
    "$$ = \\frac{1}{n-1}E[\\sum_{i=1}^{n}X_i^2-n\\bar{X}^2]$$\n",
    "$$ = \\frac{n}{n-1}E[X_i^2]-\\frac{n}{n-1}E[\\bar{X}^2]$$\n",
    "$$ = \\frac{n}{n-1}(\\mu^2+\\sigma^2)-\\frac{n}{n-1}(\\mu^2+\\frac{\\sigma^2}{n})=\\sigma^2$$"
   ]
  },
  {
   "cell_type": "markdown",
   "metadata": {},
   "source": [
    "# Additivity of chi square\n",
    "$X_1 \\sim \\chi^2(k_1), X_2 \\sim \\chi^2(k_2)$  \n",
    "Note that $Z_i \\sim \\mathcal{N}(0,1)$  \n",
    "$$P(X_1 = x) = P(\\sum_{i=1}^{k_1} Z_i= x)  $$\n",
    "$$P(X_2 = x) = P(\\sum_{i=1}^{k_2} Z_i= x)  $$\n",
    "$$P(X_1+X_2 = x) = P(\\sum_{i=1}^{k_1+k_2} Z_i= x)  $$\n",
    "$$\\therefore X_1+X_2 \\sim \\chi^2(k_1+k_2)$$"
   ]
  },
  {
   "cell_type": "markdown",
   "metadata": {},
   "source": [
    "# Chi square application\n",
    "### Note\n",
    "$$X_i \\sim \\mathcal{N}(\\mu,\\sigma^2) \\Leftrightarrow \\frac{X_i-\\mu}{\\sigma}\\sim \\mathcal{N}(0,1)$$\n",
    "  \n",
    "$$E[\\bar{X}]=\\mu, Var[\\bar{X}]=\\frac{\\sigma^2}{n} \\Rightarrow \\frac{\\bar{X}-\\mu}{\\sigma/\\sqrt{n}}\\sim \\mathcal{N}(0,1)$$"
   ]
  },
  {
   "cell_type": "markdown",
   "metadata": {},
   "source": [
    "### Lemma\n",
    "$$\\sum_{i=1}^{n}\\Big{(}\\frac{X_i-\\mu}{\\sigma}\\Big{)}^2 \\sim \\chi^2(n)$$\n",
    "  \n",
    "$$\\Big{(}\\frac{\\bar{X}-\\mu}{\\sigma/\\sqrt{n}}\\Big{)}^2 \\sim \\chi^2(1)$$"
   ]
  },
  {
   "cell_type": "markdown",
   "metadata": {},
   "source": [
    "$$\\sum_{i=1}^{n}\\Big{(}\\frac{X_i-\\mu}{\\sigma}\\Big{)}^2 \n",
    "=\\sum_{i=1}^{n}\\Big{(}\\frac{X_i-\\bar{X}+\\bar{X}-\\mu}{\\sigma}\\Big{)}^2$$\n",
    "\n",
    "$$\n",
    "=\\sum_{i=1}^{n}\\Big{(}\\frac{X_i-\\bar{X}}{\\sigma}\\Big{)}^2\n",
    "+\\sum_{i=1}^{n}\\Big{(}\\frac{\\bar{X}-\\mu}{\\sigma}\\Big{)}^2\n",
    "+2\\sum_{i=1}^{n}\\Big{(}\\frac{(X_i-\\bar{X})(\\bar{X}-\\mu)}{\\sigma}\\Big{)}\n",
    "$$\n",
    "\n",
    "$$\n",
    "=\\sum_{i=1}^{n}\\Big{(}\\frac{X_i-\\bar{X}}{\\sigma}\\Big{)}^2\n",
    "+n\\Big{(}\\frac{\\bar{X}-\\mu}{\\sigma}\\Big{)}^2\n",
    "+2\\frac{\\bar{X}-\\mu}{\\sigma^2}\\sum_{i=1}^{n}\\Big{(}X_i-\\bar{X}\\Big{)}\n",
    "$$\n",
    "\n",
    "$$\n",
    "=\\sum_{i=1}^{n}\\Big{(}\\frac{X_i-\\bar{X}}{\\sigma}\\Big{)}^2\n",
    "+\\Big{(}\\frac{\\bar{X}-\\mu}{\\sigma/\\sqrt{n}}\\Big{)}^2\n",
    "$$"
   ]
  },
  {
   "cell_type": "markdown",
   "metadata": {},
   "source": [
    "$$\n",
    "\\therefore\\sum_{i=1}^{n}\\Big{(}\\frac{X_i-\\mu}{\\sigma}\\Big{)}^2 =\\sum_{i=1}^{n}\\Big{(}\\frac{X_i-\\bar{X}}{\\sigma}\\Big{)}^2\n",
    "+\\Big{(}\\frac{\\bar{X}-\\mu}{\\sigma/\\sqrt{n}}\\Big{)}^2\n",
    "$$"
   ]
  },
  {
   "cell_type": "markdown",
   "metadata": {},
   "source": [
    "The variance estimator $S$\n",
    "$$S^2 = \\frac{1}{n-1}\\sum_{i=1}^{n}(X_i-\\bar{X})^2$$ \n",
    "$$(n-1)\\frac{S^2}{\\sigma^2} \\sim \\chi^2(n-1)$$ "
   ]
  },
  {
   "cell_type": "markdown",
   "metadata": {},
   "source": [
    "# t distribution"
   ]
  },
  {
   "cell_type": "markdown",
   "metadata": {},
   "source": [
    "$Z\\sim\\mathcal{N}(0,1), V \\sim \\chi^2(k)$  \n",
    "  \n",
    "$$T = \\frac{Z}{\\sqrt{\\frac{V}{k}}} \\sim t(k)$$"
   ]
  },
  {
   "cell_type": "markdown",
   "metadata": {},
   "source": [
    "# Note\n",
    "the variance estimator $S$\n",
    "$$S^2 = \\frac{1}{n-1}\\sum_{i=1}^{n}(X_i-\\bar{X})^2$$ \n",
    "$$(n-1)\\frac{S^2}{\\sigma^2} \\sim \\chi^2(n-1)$$ "
   ]
  },
  {
   "cell_type": "markdown",
   "metadata": {},
   "source": [
    "$$\\frac{\\bar{X}-\\mu}{\\sigma/\\sqrt{n}}\\sim \\mathcal{N}(0,1)$$"
   ]
  },
  {
   "cell_type": "markdown",
   "metadata": {},
   "source": [
    "$$\\frac{\\bar{X}-\\mu}{S/\\sqrt{n}}\\sim t(n-1)$$"
   ]
  },
  {
   "cell_type": "markdown",
   "metadata": {},
   "source": [
    "# Markov Inequality\n",
    "If $X$ is a $\\textbf{nonnegative}$ random variable\n",
    "$$\n",
    "E[X] = \\int_{0}^{a} tf_X(t) dt + \\int_{a}^{\\infty} tf_X(t) dt\n",
    "\\geq \\int_{a}^{\\infty} tf_X(t) dt\n",
    "$$\n",
    "\n",
    "$$\n",
    "\\geq \\int_{a}^{\\infty} af_X(t)ds = a P[X\\geq a]\n",
    "$$\n",
    "  \n",
    "$$\n",
    "P[X \\geq a]\\leq \\frac{E[X]}{a}\n",
    "$$"
   ]
  },
  {
   "cell_type": "markdown",
   "metadata": {},
   "source": [
    "# Chebyshev inequality\n",
    "$E[X]=m, VAR[X]=\\sigma^2$  \n",
    "$Y = (X-m)^2$  \n",
    "by Markov inequailty\n",
    "$$\n",
    "P[Y\\geq a^2] \\leq \\frac{E[Y]}{a^2} = \\frac{E[X-m]^2}{a^2} = \\frac{\\sigma ^2}{a^2}\n",
    "$$\n",
    "  \n",
    "$$\n",
    "P[|X-m|\\geq a] \\leq \\frac{\\sigma ^2}{a^2}\n",
    "$$\n"
   ]
  },
  {
   "cell_type": "markdown",
   "metadata": {},
   "source": [
    "# Laws of Large numbers\n",
    "$X_i$ iid random variables\n",
    "$E[X_i] = \\mu, E[(X_i-\\mu)^2]=\\sigma^2$  \n",
    "$$M_n = \\frac{1}{n}\\sum_{j=1}^{n} X_j$$  \n",
    "$$E[M_n] = \\mu, E[(M_n-\\mu)^2]=\\frac{\\sigma^2}{n}$$ \n",
    "  \n",
    "$$\n",
    "P[|M_n-\\mu|\\geq \\epsilon]\\leq \\frac{\\sigma^2}{n\\epsilon^2}\n",
    "$$   \n",
    "$$\n",
    "P[|M_n-\\mu| < \\epsilon]\\geq 1-\\frac{\\sigma^2}{n\\epsilon^2}\n",
    "$$\n",
    "  \n",
    "$$\n",
    "\\lim_{n \\to \\infty}P[|M_n-\\mu|<\\epsilon]=1\n",
    "$$"
   ]
  },
  {
   "cell_type": "markdown",
   "metadata": {},
   "source": [
    "# Characteristic function\n",
    "$\\Phi_X(\\omega) = E[e^{j\\omega X}]$  \n",
    "#### 1) gaussian normal distribution case\n",
    "Probability distribution function\n",
    "$$f_X(x) = \\frac{1}{\\sqrt{2\\pi}\\sigma}e^{-\\frac{(x-m)^2}{2\\sigma^2}}$$\n",
    "Characteristic funtion\n",
    "$$\\Phi_X(\\omega) = E[e^{j\\omega X}]$$\n",
    "  \n",
    "$$=\\int_{-\\infty}^{\\infty} \\frac{1}{\\sqrt{2\\pi}\\sigma}e^{-\\frac{(x-m)^2}{2\\sigma^2}+j\\omega x} dx $$\n",
    "  \n",
    "$$=e^{j\\omega m-\\omega^2\\sigma^2/2}\\int_{-\\infty}^{\\infty} \\frac{1}{\\sqrt{2\\pi}\\sigma}e^{-\\frac{(x-(m+j\\omega \\sigma^2))^2}{2\\sigma^2}} dx $$  \n",
    "  \n",
    "$$=e^{j\\omega m-\\omega^2\\sigma^2/2}$$"
   ]
  },
  {
   "cell_type": "markdown",
   "metadata": {},
   "source": [
    "# Central limit theorem\n",
    "$X_i : $ iid(independent identical distribution) random variables   \n",
    "$E[X_i] = \\mu, E[(X_i-\\mu)^2]=\\sigma^2$\n",
    "$$\n",
    "Z_n=\\frac{\\sum_{k=1}^{n} (X_k-\\mu)}{\\sqrt{n}}\n",
    "$$\n",
    "Then $Z_n$ follows the gaussian distribution mean 0 and variance $\\sigma^2$   \n",
    "or $Z_n \\sim N(0,\\sigma^2)$\n",
    "  \n",
    "$\\textit{proof)}$  \n",
    "Characteristic function of $Z_n$  \n",
    "$$\\Phi_{Z_n}(\\omega) = E[e^{j\\omega \\frac{\\sum_{k=1}^{n} (X_k-\\mu)}{\\sqrt{n}}}]=\n",
    "E[\\prod_{k=1}^{n}e^{j\\omega \\frac{(X_k-\\mu)}{\\sqrt{n}}}]$$(iid condition)  \n",
    "$$=\\prod_{k=1}^{n}E[e^{j\\omega \\frac{(X_k-\\mu)}{\\sqrt{n}}}] = (E[e^{j\\omega \\frac{(X_k-\\mu)}{\\sqrt{n}}}])^n $$  \n",
    "$$=(1+j\\omega \\frac{(X_k-\\mu)}{\\sqrt{n}}-\\omega^2 \\frac{(X_k-\\mu)^2}{2n}+E[R(\\omega)])^n$$ \n",
    "$$\\lim_{n\\to \\infty}\\Phi_{Z_n}(\\omega)=(1-\\frac{\\omega^2\\sigma^2}{2n})^n= e^{\\frac{-\\omega^2\\sigma^2}{2}}$$  \n",
    "$$\\lim_{n\\to \\infty} P(Z_n = z) = \\frac{1}{\\sqrt{2\\pi}\\sigma}e^{-\\frac{z^2}{2\\sigma^2}}$$"
   ]
  },
  {
   "cell_type": "markdown",
   "metadata": {},
   "source": [
    "# Gamma function\n",
    "$\\Gamma(z)=\\int_{0}^{\\infty}e^{-x}x^{z-1}dx$  \n",
    "$\\Gamma(z+1)=\\int_{0}^{\\infty}e^{-x}x^{z}dx = -e^{-x}x^{z}|_{0}^{\\infty}+z\\int_{0}^{\\infty}e^{-x}x^{z-1}dx=z\\Gamma(z)$ \n",
    "  \n",
    "   \n",
    "$$\\Gamma(\\frac{1}{2})=\\int_{0}^{\\infty}\\frac{e^{-x}}{\\sqrt{x}}dx = \\int_{0}^{\\infty} 2e^{-y^2} dy$$  \n",
    "  \n",
    "(change of variable $x=y^2$) \n",
    "  \n",
    "    \n",
    "$$\\Gamma(\\frac{1}{2})^2=\\int_{0}^{\\infty} 2e^{-x^2} dx \\cdot \\int_{0}^{\\infty} 2e^{-y^2} dy= \\int_{0}^{\\infty} \\int_{0}^{\\infty} 4e^{-x^2-y^2} dxdy$$(change of variable\n",
    "$x=rcos\\theta, y=rsin\\theta$)\n",
    "  \n",
    "    \n",
    "$$=\\int_{0}^{\\frac{\\pi}{2}} \\int_{0}^{\\infty} 4e^{-r^2} rdrd\\theta =\\int_{0}^{\\frac{\\pi}{2}}  -2e^{-r^2} |_{0}^{\\infty}d\\theta = \\pi$$\n",
    "\n",
    "  \n",
    "$$\\Gamma(\\frac{1}{2}) = \\sqrt{\\pi}$$\n",
    "\n",
    "$$\\Gamma(1)=1, \\Gamma(n)=(n-1)!$$($n$ is integer)"
   ]
  },
  {
   "cell_type": "markdown",
   "metadata": {},
   "source": [
    "# Beta function"
   ]
  },
  {
   "cell_type": "markdown",
   "metadata": {},
   "source": [
    "$B(x,y) = \\int_0^{1} t^{x-1}(1-t)^{y-1}dt$\n",
    "$$\\Gamma(x)\\Gamma(y) = \\int_0^{\\infty} u^{x-1}e^{-u}du\\cdot\\int_0^{\\infty} v^{y-1}e^{-v}dv$$  \n",
    "  \n",
    "$$= \\int_0^{\\infty} \\int_0^{\\infty} u^{x-1}v^{y-1}e^{-(u+v)}dudv$$  \n",
    "Change of variable $u=zt, v=z(1-t)$\n",
    "\n",
    "$$= \\int_0^{\\infty} \\int_0^{1} (zt)^{x-1}(z(1-t))^{y-1}e^{-z}zdtdz$$  \n",
    "  \n",
    "$$= \\int_0^{\\infty} \\int_0^{1} z^{x+y-1}t^{x-1}(1-t)^{y-1}e^{-z}dtdz$$ \n",
    "  \n",
    " $$= \\int_0^{\\infty}z^{x+y-1}e^{-z} dz \\cdot\\int_0^{1} t^{x-1}(1-t)^{y-1}dt$$\n",
    " \n",
    "$$= \\Gamma(x+y)B(x,y)$$\n",
    "\n",
    "$$ B(x,y)=\\frac{\\Gamma(x)\\Gamma(y)}{\\Gamma(x+y)}$$\n",
    "$$\\int_0^{1} t^{x-1}(1-t)^{y-1}dt = \\frac{\\Gamma(x)\\Gamma(y)}{\\Gamma(x+y)}$$"
   ]
  },
  {
   "cell_type": "markdown",
   "metadata": {},
   "source": [
    "## Lemma"
   ]
  },
  {
   "cell_type": "markdown",
   "metadata": {},
   "source": [
    "Let $t=kp$\n",
    "$$\\int_0^{k} t^{x-1}(k-t)^{y-1}dt = \\int_0^{1} k^{x+y-1}p^{x-1}(1-p)^{y-1}dp = \\int_0^{1} k^{x+y-1}p^{x-1}(1-p)^{y-1}dp=k^{x+y-1}\\frac{\\Gamma(x)\\Gamma(y)}{\\Gamma(x+y)}$$"
   ]
  },
  {
   "cell_type": "markdown",
   "metadata": {},
   "source": [
    "# Dirichlet distribution"
   ]
  },
  {
   "cell_type": "markdown",
   "metadata": {},
   "source": [
    "$A = \\sum_{i=1}^{K} \\alpha_i$  \n",
    "$\\sum_{i=1}^{K} x_i=1$, and $x_i>0$  "
   ]
  },
  {
   "cell_type": "markdown",
   "metadata": {},
   "source": [
    "$$f(x|\\alpha) = \\frac{\\Gamma(A)}{\\prod_{i=1}^{K}\\Gamma (\\alpha_i)}\\prod_{i=1}^{K}x_i^{\\alpha _i-1}$$"
   ]
  },
  {
   "cell_type": "markdown",
   "metadata": {},
   "source": [
    "## Property1\n",
    "$$\\int_{\\sum_{i=1}^{K}x_i = 1} f(x|\\alpha) dx = 1$$"
   ]
  },
  {
   "cell_type": "markdown",
   "metadata": {},
   "source": [
    "### Proof"
   ]
  },
  {
   "cell_type": "markdown",
   "metadata": {},
   "source": [
    "$$(LHS)= \\int_{0}^{1}\\int_{0}^{1-x_1}\\cdots\\int_{0}^{1-x_1-\\cdots-x_{K-2}}\\frac{\\Gamma(A)}{\\prod_{i=1}^{K}\\Gamma (\\alpha_i)}\\prod_{i=1}^{K}x_i^{\\alpha _i-1}dx_{K-1}\\cdots dx_2 dx_1$$"
   ]
  },
  {
   "cell_type": "markdown",
   "metadata": {},
   "source": [
    "#### Note\n",
    "$$\\int_{0}^{1-x_1-\\cdots-x_{K-2}}x_{K-1}^{\\alpha_{K-1}-1}\\big{(}(1-x_1-\\cdots-x_{K-2}) - x_{K-1} \\big{)}^{\\alpha_K-1}dx_{K-1}=(1-x_1-\\cdots-x_{K-2})^{\\alpha_{K-1}+\\alpha_K-1}\\frac{\\Gamma(\\alpha_{K-1})\\Gamma(\\alpha_{K})}{\\Gamma(\\alpha_{K-1}+\\alpha_{K})}$$"
   ]
  },
  {
   "cell_type": "markdown",
   "metadata": {},
   "source": [
    "Let $\\alpha_{n-1}+\\alpha_{n}=\\alpha'_{n-1}$"
   ]
  },
  {
   "cell_type": "markdown",
   "metadata": {},
   "source": [
    "$$(LHS)= \\int_{0}^{1}\\int_{0}^{1-x_1}\\cdots\\int_{0}^{1-x_1-\\cdots-x_{K-3}}\\frac{\\Gamma(A)}{\\prod_{i=1}^{K-1}\\Gamma (\\alpha_i)}\\prod_{i=1}^{K-1}x_i^{\\alpha _i-1}dx_{K-2}\\cdots dx_2 dx_1 = 1$$(by induction)"
   ]
  },
  {
   "cell_type": "markdown",
   "metadata": {},
   "source": [
    "## Property2"
   ]
  },
  {
   "cell_type": "markdown",
   "metadata": {},
   "source": [
    "$$E[x_i]=\\frac{\\alpha_i}{A}$$"
   ]
  },
  {
   "cell_type": "markdown",
   "metadata": {},
   "source": [
    "hint. Let $\\alpha'_i = \\alpha+1$, and $A'=A+1$ with Property1"
   ]
  },
  {
   "cell_type": "markdown",
   "metadata": {},
   "source": [
    "## Property3\n",
    "Let $$f_X(x|\\alpha )=\\exp(\\sum_{i=1}^{K}(\\alpha_i-1)\\log x_i)+\\log \\Gamma(A)-\\sum_{i=1}^K \\log \\Gamma(\\alpha_i))$$"
   ]
  },
  {
   "cell_type": "markdown",
   "metadata": {},
   "source": [
    "### Digamma function\n",
    "$$\\Psi(x) = \\frac{d}{dx}\\ln \\Gamma(x)= \\frac{\\Gamma'(x)}{\\Gamma(x)}$$"
   ]
  },
  {
   "cell_type": "markdown",
   "metadata": {},
   "source": [
    "by Property1 $$1 = \\int f_X(x|\\alpha )dx= \\int\\exp\\big{(}\\sum_{i=1}^{K}(\\alpha_i-1)\\ln x_i)+\\ln \\Gamma(A)-\\sum_{i=1}^K \\ln \\Gamma(\\alpha_i)\\big{)}dx $$"
   ]
  },
  {
   "cell_type": "markdown",
   "metadata": {},
   "source": [
    "$$\\frac{d(1) }{d \\alpha_i} = 0 = \\int (\\ln x_i + \\Psi(A)-\\Psi(\\alpha_i) \\exp\\big{(}\\sum_{i=1}^{K}(\\alpha_i-1)\\ln x_i)+\\log \\Gamma(A)-\\sum_{i=1}^K \\ln \\Gamma(\\alpha_i)\\big{)}dx $$"
   ]
  },
  {
   "cell_type": "markdown",
   "metadata": {},
   "source": [
    "$$E[\\ln x_i] = \\big{(} \\Psi(\\alpha_i)- \\Psi(A) \\big{)}E[1] = \\Psi(\\alpha_i)- \\Psi(A)$$"
   ]
  },
  {
   "cell_type": "markdown",
   "metadata": {},
   "source": [
    "# Chi square proof\n",
    "$z_i \\sim N(0,1)$, and \n",
    "$$P(z_i)=\\frac{1}{\\sqrt{2\\pi}}e^{-\\frac{z_i^2}{2}}$$\n",
    " \n",
    "Random variable $X$  \n",
    "$$ X = \\sum_{i=0}^{n}z_i^2$$\n",
    "\n",
    "$$ P(X \\leq x)= \\int_{z_1^2+\\cdots+z_n^2 \\leq x} \\prod_{i=1}^{n}P(z_i)dz_1\\cdots dz_n$$\n",
    "  (for $x\\geq0$)\n",
    "  \n",
    "$$ P(x-dx \\leq X \\leq x)= \\frac{1}{(2\\pi)^{n/2}}\\int_{x-dx \\leq z_1^2+\\cdots+z_n^2 \\leq x} e^{-\\frac{z_1^2+\\cdots+z_n^2}{2}}dz_1\\cdots dz_n$$  \n",
    "\n",
    "$$ = e^{-\\frac{x}{2}}\\frac{1}{(2\\pi)^{n/2}}\\int_{x-dx \\leq z_1^2+\\cdots+z_n^2 \\leq x} dz_1\\cdots dz_n$$  "
   ]
  },
  {
   "cell_type": "markdown",
   "metadata": {},
   "source": [
    " Let  \n",
    "$$ f_{n}(x)= \\int_{z_1^2+\\cdots+z_n^2 \\leq x} dz_1\\cdots dz_n$$  \n",
    "  "
   ]
  },
  {
   "cell_type": "markdown",
   "metadata": {},
   "source": [
    "$\\textbf{Property1}$  \n",
    "change of variable $z_i = \\sqrt{x}\\cdot y_i$\n",
    "$$ f_{n}(x)= x^{n/2}\\int_{y_1^2+\\cdots+y_n^2 \\leq 1} dy_1\\cdots dy_n = x^{n/2}f_n(1)$$ "
   ]
  },
  {
   "cell_type": "markdown",
   "metadata": {},
   "source": [
    "$\\textbf{Property2}$\n",
    "$$ f_{n}(1)= \\int_{-1}^{1}\\int_{z_1^2+\\cdots+z_{n-1}^2 \\leq 1-z_n^2} dz_1\\cdots dz_{n-1} dz_n$$  \n",
    "  \n",
    "$$ f_{n}(1)= \\int_{-1}^{1}f_{n-1}(1-z_n^2)dz_n$$\n",
    "\n",
    "$$ f_{n}(1)= f_{n-1}(1)\\int_{-1}^{1}(1-z_n^2)^{(n-1)/2}dz_n$$\n",
    "\n",
    "$$ = f_{n-1}(1)\\frac{\\Gamma(\\frac{n-1}{2}+1)\\Gamma(\\frac{1}{2})}{\\Gamma(\\frac{n}{2}+1)}$$\n",
    "$$ = \\frac{f_{1}(1)}{2}\\frac{\\Gamma(\\frac{1}{2})^{n}}{\\Gamma(\\frac{n}{2}+1)}$$\n",
    "  \n",
    "$$ = \\frac{\\pi^{n/2}}{\\Gamma(\\frac{n}{2}+1)}$$"
   ]
  },
  {
   "cell_type": "markdown",
   "metadata": {},
   "source": [
    "$\\textbf{Lemma}$  \n",
    "$$\\int_{-1}^{1}(1-x^2)^{n/2}dx = 2\\int_{0}^{1}(1-x^2)^{n/2}dx$$  \n",
    "change of variable $x = \\sqrt{y}$   \n",
    "$$= \\int_{0}^{1}(1-y)^{n/2}y^{-1/2}dy = \\frac{\\Gamma(\\frac{n}{2}+1)\\Gamma(\\frac{1}{2})}{\\Gamma(\\frac{n+1}{2}+1)}$$  "
   ]
  },
  {
   "cell_type": "markdown",
   "metadata": {},
   "source": [
    "$$ P(X=x)=\\frac{P(x-dx \\leq X \\leq x)}{dx}=\n",
    "e^{-\\frac{x}{2}}\\frac{1}{(2\\pi)^{n/2}}\n",
    "\\frac{f_n(x)-f_n(x-dx)}{dx}$$  \n",
    "\n",
    "$$= e^{-\\frac{x}{2}}\\frac{1}{(2\\pi)^{n/2}}\\frac{d}{dx}f_n(x)= e^{-\\frac{x}{2}}\\frac{1}{(2\\pi)^{n/2}}\\frac{d}{dx}(x^{n/2}f_n(1))$$\n",
    "  \n",
    "$$ = \\frac{1}{2^{n/2}\\Gamma(\\frac{n}{2})}x^{n/2-1}e^{-\\frac{x}{2}}$$"
   ]
  }
 ],
 "metadata": {
  "kernelspec": {
   "display_name": "Python 3",
   "language": "python",
   "name": "python3"
  },
  "language_info": {
   "codemirror_mode": {
    "name": "ipython",
    "version": 3
   },
   "file_extension": ".py",
   "mimetype": "text/x-python",
   "name": "python",
   "nbconvert_exporter": "python",
   "pygments_lexer": "ipython3",
   "version": "3.6.0"
  }
 },
 "nbformat": 4,
 "nbformat_minor": 2
}
