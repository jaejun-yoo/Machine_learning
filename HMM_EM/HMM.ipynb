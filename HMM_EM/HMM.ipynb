{
 "cells": [
  {
   "cell_type": "code",
   "execution_count": 1,
   "metadata": {
    "collapsed": true
   },
   "outputs": [],
   "source": [
    "import numpy as np\n",
    "import matplotlib.pyplot as plt\n",
    "import math"
   ]
  },
  {
   "cell_type": "code",
   "execution_count": 2,
   "metadata": {
    "collapsed": true
   },
   "outputs": [],
   "source": [
    "def normalizer(x):\n",
    "    '''\n",
    "    input : \n",
    "        x 1D array\n",
    "    return :\n",
    "        1D array normalized for the sum of it to be 1\n",
    "    '''\n",
    "    temp = np.zeros(len(x))\n",
    "    sum = 0\n",
    "    for i in range(len(x)):\n",
    "        sum += x[i]\n",
    "    for i in range(len(x)):\n",
    "        temp[i]=x[i]/sum\n",
    "    return temp\n",
    "\n",
    "def random_row_generator(x, uniform = False):\n",
    "    '''\n",
    "    input :\n",
    "        x = int\n",
    "        uniform = boolean default to be false\n",
    "    \n",
    "    return :\n",
    "        unifrom = True\n",
    "            return x length unifrom 1D array\n",
    "        uniform = False\n",
    "            return x length random 1D array \n",
    "    \n",
    "    '''\n",
    "    if uniform:\n",
    "         return normalizer(np.ones(x))\n",
    "    return normalizer(np.random.rand(x))\n",
    "\n",
    "def random_sequence_generator(states, length):\n",
    "    '''\n",
    "    input : \n",
    "        states = int\n",
    "        length = int\n",
    "    return :\n",
    "        return 1D array \n",
    "                which length is length\n",
    "                    each value is one of the integer between 0 ~ (states - 1)\n",
    "    \n",
    "    '''\n",
    "    return np.random.randint(states, size = length)\n"
   ]
  },
  {
   "cell_type": "code",
   "execution_count": 3,
   "metadata": {
    "collapsed": true
   },
   "outputs": [],
   "source": [
    "def print_setting(setting):\n",
    "    '''\n",
    "    print every variabels in Hidden Markov Model defined by setting\n",
    "    '''\n",
    "    print(\"Initial probability\")\n",
    "    print(setting['initial'])\n",
    "    print(\"Transition matrix probability\")\n",
    "    print(setting['transition'])\n",
    "    print(\"Observation matrix probability\")\n",
    "    print(setting['observation'])"
   ]
  },
  {
   "cell_type": "markdown",
   "metadata": {},
   "source": [
    "# Initial problem setting"
   ]
  },
  {
   "cell_type": "code",
   "execution_count": 4,
   "metadata": {
    "collapsed": false
   },
   "outputs": [],
   "source": [
    "def HMM_initalization(observed_states, hidden_states, uniform =False):\n",
    "    '''\n",
    "    \n",
    "    input :\n",
    "        observed states = int\n",
    "        hidden_states = int\n",
    "        uniform = boolean default to be false\n",
    "    output :\n",
    "        initialize every variables in HMM\n",
    "        the number of hidden_states = hidden_states\n",
    "        the number of observed states = observed_states\n",
    "        if unifrom is True\n",
    "            return uniformly initailized probabilities\n",
    "        if uniform is False \n",
    "            return randomly initialized probabilities\n",
    "            \n",
    "    '''\n",
    "    \n",
    "    initial = random_row_generator(hidden_states,uniform)\n",
    "    transition = []\n",
    "    observation = []\n",
    "    for i in range(hidden_states):\n",
    "        transition.append(random_row_generator(hidden_states,uniform))\n",
    "    for i in range(hidden_states):\n",
    "        observation.append(random_row_generator(observed_states,uniform))\n",
    "    transition = np.array(transition)\n",
    "    observation = np.array(observation)\n",
    "    return {'initial' : initial, 'transition' : transition, 'observation' : observation}"
   ]
  },
  {
   "cell_type": "code",
   "execution_count": 5,
   "metadata": {
    "collapsed": false
   },
   "outputs": [
    {
     "name": "stdout",
     "output_type": "stream",
     "text": [
      "Initial probability\n",
      "[ 0.31130777  0.31474922  0.37394301]\n",
      "Transition matrix probability\n",
      "[[ 0.43275538  0.56378792  0.0034567 ]\n",
      " [ 0.39418119  0.13049435  0.47532446]\n",
      " [ 0.3305761   0.55212438  0.11729952]]\n",
      "Observation matrix probability\n",
      "[[ 0.24353653  0.37573434  0.09580714  0.284922  ]\n",
      " [ 0.25403262  0.1745957   0.24482044  0.32655123]\n",
      " [ 0.27007142  0.02674488  0.39098428  0.31219942]]\n"
     ]
    }
   ],
   "source": [
    "hstates = 3\n",
    "ostates = 4\n",
    "setting = HMM_initalization(ostates, hstates)\n",
    "print_setting(setting)"
   ]
  },
  {
   "cell_type": "markdown",
   "metadata": {},
   "source": [
    "# Evaluation Problem\n",
    "    Forward Recursion\n",
    "    Backwrd Recursion"
   ]
  },
  {
   "cell_type": "markdown",
   "metadata": {},
   "source": [
    "    Forward_k[i] = P(o1o2...ok, qk=si)  \n",
    "    Backward_k[i] = P(o(k+1)o(k+2)...oL|qk=si)"
   ]
  },
  {
   "cell_type": "code",
   "execution_count": 6,
   "metadata": {
    "collapsed": true
   },
   "outputs": [],
   "source": [
    "observed_length = 10"
   ]
  },
  {
   "cell_type": "code",
   "execution_count": 7,
   "metadata": {
    "collapsed": false
   },
   "outputs": [],
   "source": [
    "def encoding_problem(observed_sequence, initial, transition, observation):\n",
    "    '''\n",
    "    input :\n",
    "        observed_sequence : 1D array \n",
    "                            each value(0 ~ observed_states-1)\n",
    "        initial : 1D array(hidden_states)\n",
    "                    initial probability of hidden states\n",
    "        transition : 2D array(hidden_states*hidden_states)\n",
    "                    transition probability of hidden_state to hidden state\n",
    "        observation : 2D array(hidden_states*observed_states)    \n",
    "                    Observed probability of observed states for given hidden states\n",
    "                \n",
    "    return :\n",
    "        forward recursion\n",
    "        backward recursion\n",
    "    '''\n",
    "    hidden_states, observed_states = observation.shape\n",
    "    length = len(observed_sequence)\n",
    "    \n",
    "    if hidden_states!=len(initial) or hidden_states!=transition.shape[0] or hidden_states!=transition.shape[1]: \n",
    "        raise SizeError('Wrong input')    \n",
    "    \n",
    "    for i in range(length):\n",
    "        if observed_sequence[i]<observed_states:\n",
    "            continue\n",
    "        else:\n",
    "            raise WrongInputError('Observed sequence wrong')\n",
    "\n",
    "    forward = np.zeros((length,hidden_states))\n",
    "    for j in range(hidden_states):\n",
    "        forward[0][j] = initial[j]*observation[j][observed_sequence[0]]\n",
    "    for i in range(1, length):\n",
    "        for j in range(hidden_states):\n",
    "            for k in range(hidden_states):\n",
    "                forward[i][j] += forward[i-1][k]*transition[k][j]*observation[j][observed_sequence[i]]\n",
    "                \n",
    "    backward = np.zeros((length,hidden_states))\n",
    "    for j in range(hidden_states):\n",
    "        backward[length-1][j] = 1\n",
    "    for i in range(1,length):\n",
    "        for j in range(hidden_states):\n",
    "            for k in range(hidden_states):\n",
    "                backward[length-1-i][j] += transition[j][k]*observation[k][observed_sequence[length-i]]*backward[length-i][k]\n",
    "    return {'forward' : forward, 'backward' : backward}\n",
    "def probability(seq, initial, transition, observation):\n",
    "    \"Solve the evalution problem with results from forward recursion\"\n",
    "    return np.sum(encoding_problem(seq, initial, transition, observation)['forward'][observed_length-1])"
   ]
  },
  {
   "cell_type": "code",
   "execution_count": 8,
   "metadata": {
    "collapsed": false
   },
   "outputs": [
    {
     "name": "stdout",
     "output_type": "stream",
     "text": [
      "Observed_sequence\n",
      "[0 3 1 1 2 2 2 2 3 2]\n",
      "Observed_sequence_probability from forward recursion\n",
      "6.56088614559e-07\n",
      "Observed_sequence_probability from backward recursion\n",
      "6.56088614559e-07\n",
      "Use the function\n",
      "6.56088614559e-07\n"
     ]
    }
   ],
   "source": [
    "sequence = random_sequence_generator(ostates,observed_length)\n",
    "\n",
    "init = setting['initial']\n",
    "transit = setting['transition']\n",
    "observe = setting['observation']\n",
    "\n",
    "result = encoding_problem(sequence, init, transit, observe)\n",
    "forward = result['forward']\n",
    "backward = result['backward']\n",
    "\n",
    "observed_sequence_probability = 0\n",
    "for i in range(hstates):\n",
    "    observed_sequence_probability+=init[i]*backward[0][i]*observe[i][sequence[0]]\n",
    "print(\"Observed_sequence\")\n",
    "print(sequence)\n",
    "print(\"Observed_sequence_probability from forward recursion\")\n",
    "print(np.sum(forward[observed_length-1]))  \n",
    "print(\"Observed_sequence_probability from backward recursion\")\n",
    "print(observed_sequence_probability)\n",
    "print(\"Use the function\")\n",
    "print(probability(sequence, init,transit,observe))"
   ]
  },
  {
   "cell_type": "markdown",
   "metadata": {},
   "source": [
    "# Decoding problem\n",
    "    Viterbi Algorithm"
   ]
  },
  {
   "cell_type": "markdown",
   "metadata": {},
   "source": [
    "    viterbi_k[j]=max_(q1...q(k-1)){P(q1,q2,...,q(k_1),q_k=sj,o1o2...ok)}"
   ]
  },
  {
   "cell_type": "code",
   "execution_count": 9,
   "metadata": {
    "collapsed": false
   },
   "outputs": [],
   "source": [
    "def decoding_problem(observed_sequence, initial, transition, observation):\n",
    "    '''\n",
    "    input :\n",
    "        observed_sequence : 1D array \n",
    "                            each value(0 ~ observed_states-1)\n",
    "        initial : 1D array(hidden_states)\n",
    "                    initial probability of hidden states\n",
    "        transition : 2D array(hidden_states*hidden_states)\n",
    "                    transition probability of hidden_state to hidden state\n",
    "        observation : 2D array(hidden_states*observed_states)    \n",
    "                    Observed probability of observed states for given hidden states\n",
    "                \n",
    "    return \n",
    "        the most probable hidden sequence\n",
    "        and viterbi matrix\n",
    "    '''\n",
    "    \n",
    "    hidden_states, observed_states = observation.shape\n",
    "    length = len(observed_sequence)\n",
    "    \n",
    "    if hidden_states==len(initial) and hidden_states==transition.shape[0] and hidden_states==transition.shape[1]: \n",
    "        print(\"Hidden states : {}, observed states : {}\".format(hidden_states, observed_states))\n",
    "    else:\n",
    "        raise SizeError('Wrong input')\n",
    "    \n",
    "    for i in range(length):\n",
    "        if observed_sequence[i]<observed_states:\n",
    "            continue\n",
    "        else:\n",
    "            raise WrongInputError('Observed sequence wrong')\n",
    "    length = len(observed_sequence)\n",
    "    \n",
    "    back_tracking_table = np.zeros((length,hidden_states),dtype=np.int32)\n",
    "    viterbi = np.zeros((length,hidden_states))\n",
    "    for j in range(hidden_states):\n",
    "        viterbi[0][j] = initial[j]*observation[j][observed_sequence[0]]\n",
    "        back_tracking_table[0][j] = j\n",
    "    for i in range(1, length):\n",
    "        for j in range(hidden_states):\n",
    "            temp = np.zeros(hidden_states)\n",
    "            for k in range(hidden_states):\n",
    "                temp[k] = viterbi[i-1][k]*transition[k][j]*observation[j][observed_sequence[i]] \n",
    "            back_tracking_table[i][j] = np.argmax(temp)\n",
    "            viterbi[i][j] = np.max(temp)\n",
    "    hidden_sequence = np.zeros(length, dtype=np.int32)\n",
    "    hidden_sequence[length-1] = np.argmax(viterbi[length-1])\n",
    "    for i in range(1,length):\n",
    "        hidden_sequence[length-1-i] = back_tracking_table[length-i][hidden_sequence[length-i]]\n",
    "    return {'viterbi' : viterbi, 'hidden_sequence' : hidden_sequence}"
   ]
  },
  {
   "cell_type": "code",
   "execution_count": 10,
   "metadata": {
    "collapsed": false
   },
   "outputs": [
    {
     "name": "stdout",
     "output_type": "stream",
     "text": [
      "Observed_sequence\n",
      "[1 1 0 0 1 0 1 0 3 2]\n",
      "Hidden states : 3, observed states : 4\n",
      "Viterbi\n",
      "[[  1.16969019e-01   5.49538609e-02   1.00010608e-02]\n",
      " [  1.90192859e-02   1.15138393e-02   6.98600696e-04]\n",
      " [  2.00447567e-03   2.72395205e-03   1.47804940e-03]\n",
      " [  2.61492638e-04   2.87082052e-04   3.49677947e-04]\n",
      " [  4.34330754e-05   3.37084449e-05   3.64952922e-06]\n",
      " [  4.57748748e-06   6.22050774e-06   4.32720532e-06]\n",
      " [  9.21303280e-07   4.50584743e-07   7.90781752e-08]\n",
      " [  9.70977576e-08   1.31949537e-07   5.78422618e-08]\n",
      " [  1.48193702e-08   1.78762448e-08   1.95807861e-08]\n",
      " [  6.75103026e-10   2.64676101e-09   3.32219981e-09]]\n",
      "Hidden Sequence\n",
      "[0 0 1 2 0 1 0 0 1 2]\n"
     ]
    }
   ],
   "source": [
    "sequence = random_sequence_generator(ostates,observed_length)\n",
    "print(\"Observed_sequence\")\n",
    "print(sequence)\n",
    "result = decoding_problem(sequence, init, transit, observe)\n",
    "print(\"Viterbi\")\n",
    "print(result['viterbi'])\n",
    "print(\"Hidden Sequence\")\n",
    "print(result['hidden_sequence'])"
   ]
  },
  {
   "cell_type": "markdown",
   "metadata": {},
   "source": [
    "# Learning problem"
   ]
  },
  {
   "cell_type": "code",
   "execution_count": 11,
   "metadata": {
    "collapsed": true
   },
   "outputs": [],
   "source": [
    "def random_choice(states, p):\n",
    "    '''\n",
    "    input : \n",
    "        states = int\n",
    "        p = positive 1D array length(=states)\n",
    "    return :\n",
    "        select between 0 ~ (states-1) according to probability distribution p\n",
    "    \n",
    "    '''\n",
    "    if states != len(p):\n",
    "        raise WrongstatesError\n",
    "    r = np.random.rand()*np.sum(p)\n",
    "    for i in range(states):\n",
    "        r-=p[i]\n",
    "        if r<=0:\n",
    "            return i"
   ]
  },
  {
   "cell_type": "code",
   "execution_count": 12,
   "metadata": {
    "collapsed": false
   },
   "outputs": [],
   "source": [
    "def observed_sequence_generator(length, initial, transition, observation):   \n",
    "    '''\n",
    "    input:\n",
    "        length : length of seqs\n",
    "        initial : 1D array(hidden_states)\n",
    "                    initial probability of hidden states\n",
    "        transition : 2D array(hidden_states*hidden_states)\n",
    "                    transition probability of hidden_state to hidden state\n",
    "        observation : 2D array(hidden_states*observed_states)    \n",
    "                    Observed probability of observed states for given hidden states\n",
    "    return : \n",
    "        Generate observed states with length(=length) from HMM\n",
    "    '''  \n",
    "    hidden_states, observed_states = observation.shape\n",
    "    \n",
    "    if hidden_states!=len(initial) or hidden_states!=transition.shape[0] or hidden_states!=transition.shape[1]: \n",
    "        raise SizeError('Wrong input')\n",
    "\n",
    "    hidden_seq = np.zeros(length, dtype=np.int32)\n",
    "    observed_seq = np.zeros(length, dtype =np.int32)\n",
    "    \n",
    "    hidden_seq[0] = random_choice(hidden_states, p=initial)\n",
    "\n",
    "    for i in range(1, length):\n",
    "        hidden_seq[i] = random_choice(hidden_states, p = transition[hidden_seq[i-1]])\n",
    "    \n",
    "    for i in range(length):\n",
    "        observed_seq[i] = random_choice(observed_states, p= observation[hidden_seq[i]])\n",
    "    return observed_seq"
   ]
  },
  {
   "cell_type": "markdown",
   "metadata": {},
   "source": [
    "    gamma_k[i]=P(qk = si| o1o2...oL)\n",
    "    epsilon_k[i,j]=P(qk = si, q(k+1)=sj | o1o2...oL)"
   ]
  },
  {
   "cell_type": "code",
   "execution_count": 13,
   "metadata": {
    "collapsed": false
   },
   "outputs": [],
   "source": [
    "def Expectation(observed_sequence, initial, transition, observation):\n",
    "    '''\n",
    "    input :\n",
    "        observed_sequence : 1D array \n",
    "                            each value(0 ~ observed_states-1)\n",
    "        initial : 1D array(hidden_states)\n",
    "                    initial probability of hidden states\n",
    "        transition : 2D array(hidden_states*hidden_states)\n",
    "                    transition probability of hidden_state to hidden state\n",
    "        observation : 2D array(hidden_states*observed_states)    \n",
    "                    Observed probability of observed states for given hidden states\n",
    "                \n",
    "    return :\n",
    "        calculate the expectation values \n",
    "        gamma, and epsilon\n",
    "        gamma_k[i]=P(qk = si| o1o2...oL)\n",
    "        epsilon_k[i,j]=P(qk = si, q(k+1)=sj | o1o2...oL)\n",
    "    '''\n",
    "    \n",
    "    result = encoding_problem(observed_sequence, initial, transition, observation)\n",
    "    forward = result['forward']\n",
    "    backward = result['backward']\n",
    "\n",
    "    hidden_states, observed_states = observation.shape\n",
    "    length = len(observed_sequence)\n",
    "\n",
    "    gamma = np.zeros((length, hidden_states))\n",
    "    epsilon = np.zeros((length-1, hidden_states, hidden_states))\n",
    "    \n",
    "    for i in range(length):\n",
    "        temp_sum = 0\n",
    "        for j in range(hidden_states):\n",
    "            temp_sum += forward[i][j]*backward[i][j]\n",
    "        for j in range(hidden_states):\n",
    "            gamma[i][j] = forward[i][j]*backward[i][j]/temp_sum\n",
    "    \n",
    "    for i in range(length-1):\n",
    "        temp_sum = 0\n",
    "        for j in range(hidden_states):\n",
    "            for k in range(hidden_states):\n",
    "                temp_sum += forward[i][j]*backward[i+1][k]*transition[j][k]*observation[k][observed_sequence[i+1]]\n",
    "        for j in range(hidden_states):\n",
    "            for k in range(hidden_states):\n",
    "                epsilon[i][j][k] = forward[i][j]*backward[i+1][k]*transition[j][k]*observation[k][observed_sequence[i+1]]/temp_sum\n",
    "    return {'gamma' : gamma, 'epsilon' : epsilon}"
   ]
  },
  {
   "cell_type": "code",
   "execution_count": 14,
   "metadata": {
    "collapsed": false
   },
   "outputs": [],
   "source": [
    "def Maximization(observed_sequences, gamma, epsilon, observed_states, hidden_states):\n",
    "    '''\n",
    "    input :\n",
    "        observed_sequences : 2D array(number_of_sequences * length)\n",
    "                            each value(0 ~ observed_states-1)\n",
    "        gamma : 3D array(number_of_sequences*length*hidden_states)\n",
    "        epsilon : 4D array(number_of_sequences*length*hidden_states*hidden_states)\n",
    "                \n",
    "    return :\n",
    "        calculate the paramaters in HMM from \n",
    "        gamma, and epsilon which maximizes the probability of observed sequences\n",
    "    '''\n",
    "    \n",
    "    initial = np.zeros(hidden_states)\n",
    "    transition = np.zeros((hidden_states,hidden_states))\n",
    "    observation = np.zeros((hidden_states, observed_states))\n",
    "    data_size, length = observed_sequences.shape\n",
    "    \n",
    "    for i in range(hidden_states):\n",
    "        for d in range(data_size):\n",
    "            initial[i] += gamma[d][0][i]\n",
    "        initial[i]/=data_size\n",
    "    \n",
    "    for i in range(hidden_states):\n",
    "        for j in range(hidden_states):\n",
    "            temp1 = 0\n",
    "            temp2 = 0\n",
    "            for d in range(data_size):\n",
    "                for l in range(length-1):\n",
    "                    temp1 += epsilon[d][l][i][j]\n",
    "                    temp2 += gamma[d][l][i]\n",
    "            transition[i][j] = temp1/temp2\n",
    "    \n",
    "    for i in range(hidden_states):\n",
    "        for j in range(observed_states):\n",
    "            temp1 = 0\n",
    "            temp2 = 0\n",
    "            for d in range(data_size):\n",
    "                for l in range(length):\n",
    "                    if observed_sequences[d][l]==j:\n",
    "                        temp1+=gamma[d][l][i]\n",
    "                    temp2+=gamma[d][l][i]\n",
    "            observation[i][j] = temp1/temp2\n",
    "    return {'initial' : initial, 'transition' : transition, 'observation' : observation}"
   ]
  },
  {
   "cell_type": "markdown",
   "metadata": {},
   "source": [
    "# Make the generative model with HMM and generate observed sequences"
   ]
  },
  {
   "cell_type": "code",
   "execution_count": 15,
   "metadata": {
    "collapsed": false
   },
   "outputs": [
    {
     "name": "stdout",
     "output_type": "stream",
     "text": [
      "Initial probability\n",
      "[ 0.26119164  0.37397762  0.36483074]\n",
      "Transition matrix probability\n",
      "[[ 0.3718124   0.35939068  0.26879692]\n",
      " [ 0.33257082  0.0773155   0.59011369]\n",
      " [ 0.37262171  0.28665564  0.34072265]]\n",
      "Observation matrix probability\n",
      "[[ 0.16580992  0.21851125  0.20696024  0.40871858]\n",
      " [ 0.1961674   0.30955819  0.20057819  0.29369623]\n",
      " [ 0.33237514  0.15470868  0.02176087  0.49115531]]\n"
     ]
    }
   ],
   "source": [
    "hstates = 3\n",
    "ostates = 4\n",
    "observed_length = 100\n",
    "observed_num = 1000\n",
    "answer_setting = HMM_initalization(ostates, hstates)\n",
    "print_setting(answer_setting)"
   ]
  },
  {
   "cell_type": "code",
   "execution_count": 16,
   "metadata": {
    "collapsed": false
   },
   "outputs": [
    {
     "name": "stdout",
     "output_type": "stream",
     "text": [
      "(1000, 100)\n"
     ]
    }
   ],
   "source": [
    "observed_storage = []\n",
    "for i in range(observed_num):\n",
    "    observed_storage.append(observed_sequence_generator(observed_length, answer_setting['initial']\n",
    "                                ,answer_setting['transition']\n",
    "                                ,answer_setting['observation']))\n",
    "\n",
    "    \n",
    "    observed_storage = np.array(observed_storage)\n",
    "print(observed_storage.shape)\n",
    "\n",
    "#print_setting(answer_setting)\n",
    "#print(observed_storage)"
   ]
  },
  {
   "cell_type": "code",
   "execution_count": 18,
   "metadata": {
    "collapsed": false
   },
   "outputs": [
    {
     "name": "stdout",
     "output_type": "stream",
     "text": [
      "Probability of answer : -130921.96540628369\n",
      "Answer\n",
      "Initial probability\n",
      "[ 0.26119164  0.37397762  0.36483074]\n",
      "Transition matrix probability\n",
      "[[ 0.3718124   0.35939068  0.26879692]\n",
      " [ 0.33257082  0.0773155   0.59011369]\n",
      " [ 0.37262171  0.28665564  0.34072265]]\n",
      "Observation matrix probability\n",
      "[[ 0.16580992  0.21851125  0.20696024  0.40871858]\n",
      " [ 0.1961674   0.30955819  0.20057819  0.29369623]\n",
      " [ 0.33237514  0.15470868  0.02176087  0.49115531]]\n",
      "Initial\n",
      "Initial probability\n",
      "[ 0.10704036  0.41842381  0.47453584]\n",
      "Transition matrix probability\n",
      "[[ 0.72875774  0.17387861  0.09736366]\n",
      " [ 0.34764238  0.36971816  0.28263947]\n",
      " [ 0.34251285  0.28868169  0.36880545]]\n",
      "Observation matrix probability\n",
      "[[ 0.18780172  0.28711384  0.42938068  0.09570376]\n",
      " [ 0.59467755  0.36361026  0.00165983  0.04005236]\n",
      " [ 0.1028728   0.10277863  0.33212878  0.46221979]]\n",
      "Initial probability\n",
      "[ 0.89051465  0.03623498  0.07325037]\n",
      "Transition matrix probability\n",
      "[[ 0.5402284   0.25887455  0.20089706]\n",
      " [ 0.21148015  0.28909251  0.49942735]\n",
      " [ 0.25046611  0.26664103  0.48289286]]\n",
      "Observation matrix probability\n",
      "[[ 0.23656978  0.22519716  0.13585917  0.40237388]\n",
      " [ 0.50242373  0.39494665  0.00105736  0.10157226]\n",
      " [ 0.04895052  0.09231415  0.22772299  0.63101234]]\n"
     ]
    },
    {
     "data": {
      "image/png": "[encoded data removed]",
      "text/plain": [
       "<matplotlib.figure.Figure at 0x7fdda3972ac8>"
      ]
     },
     "metadata": {},
     "output_type": "display_data"
    }
   ],
   "source": [
    "answer_probability = 0\n",
    "for dataset in range(len(observed_storage)):\n",
    "    answer_probability += math.log(probability(observed_storage[dataset]\n",
    "                            ,answer_setting['initial']\n",
    "                            ,answer_setting['transition']\n",
    "                            ,answer_setting['observation']))\n",
    "\n",
    "print(\"Probability of answer : {}\".format(answer_probability))\n",
    "print(\"Answer\")\n",
    "print_setting(answer_setting)\n",
    "\n",
    "print(\"Initial\")      \n",
    "Learning_setting = HMM_initalization(ostates, hstates)\n",
    "print_setting(Learning_setting)\n",
    "\n",
    "\n",
    "iteration = 1000\n",
    "Learn_probability = np.zeros(iteration)\n",
    "for iter in range(iteration):\n",
    "    gamma_set = []\n",
    "    epsilon_set = []\n",
    "    for dataset in range(len(observed_storage)):\n",
    "        temp = Expectation(observed_storage[dataset]\n",
    "                            ,Learning_setting['initial']\n",
    "                            ,Learning_setting['transition']\n",
    "                            ,Learning_setting['observation'])\n",
    "        gamma_set.append(temp['gamma'])\n",
    "        epsilon_set.append(temp['epsilon'])\n",
    "    gamma_set = np.array(gamma_set)\n",
    "    epsilon_set = np.array(epsilon_set)\n",
    "    Learning_setting = Maximization(observed_storage, gamma_set, epsilon_set, ostates, hstates)\n",
    "    \n",
    "    for dataset in range(len(observed_storage)):\n",
    "        Learn_probability[iter] += math.log(probability(observed_storage[dataset]\n",
    "                                        ,Learning_setting['initial']\n",
    "                                        ,Learning_setting['transition']\n",
    "                                        ,Learning_setting['observation']))\n",
    "print(\"After training\")\n",
    "print_setting(Learning_setting)\n",
    "\n",
    "print(\"Learning process outline\")\n",
    "plt.plot(Learn_probability)\n",
    "plt.axhline(y=answer_probability, xmin=0, xmax=iteration, linewidth=2, color = 'k')\n",
    "plt.title(\"EM on HMM tracking\")\n",
    "plt.ylabel(\"logliklihood probability\")\n",
    "plt.xlabel(\"iteration steps\")\n",
    "plt.show()"
   ]
  }
 ],
 "metadata": {
  "kernelspec": {
   "display_name": "Python 3",
   "language": "python",
   "name": "python3"
  },
  "language_info": {
   "codemirror_mode": {
    "name": "ipython",
    "version": 3
   },
   "file_extension": ".py",
   "mimetype": "text/x-python",
   "name": "python",
   "nbconvert_exporter": "python",
   "pygments_lexer": "ipython3",
   "version": "3.6.0"
  }
 },
 "nbformat": 4,
 "nbformat_minor": 2
}
