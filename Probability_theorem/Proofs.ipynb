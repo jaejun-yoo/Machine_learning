{
 "cells": [
  {
   "cell_type": "markdown",
   "metadata": {},
   "source": [
    "# Markov Inequality\n",
    "If $X$ is a $\\textbf{nonnegative}$ random variable\n",
    "$$\n",
    "E[X] = \\int_{0}^{a} tf_X(t) dt + \\int_{a}^{\\infty} tf_X(t) dt\n",
    "\\geq \\int_{a}^{\\infty} tf_X(t) dt\n",
    "$$\n",
    "\n",
    "$$\n",
    "\\geq \\int_{a}^{\\infty} af_X(t)ds = a P[X\\geq a]\n",
    "$$\n",
    "  \n",
    "$$\n",
    "P[X \\geq a]\\leq \\frac{E[X]}{a}\n",
    "$$"
   ]
  },
  {
   "cell_type": "markdown",
   "metadata": {},
   "source": [
    "# Chebyshev inequality\n",
    "$E[X]=m, VAR[X]=\\sigma^2$  \n",
    "$Y = (X-m)^2$  \n",
    "by Markov inequailty\n",
    "$$\n",
    "P[Y\\geq a^2] \\leq \\frac{E[Y]}{a^2} = \\frac{E[X-m]^2}{a^2} = \\frac{\\sigma ^2}{a^2}\n",
    "$$\n",
    "  \n",
    "$$\n",
    "P[|X-m|\\geq a] \\leq \\frac{\\sigma ^2}{a^2}\n",
    "$$\n"
   ]
  },
  {
   "cell_type": "markdown",
   "metadata": {},
   "source": [
    "# Laws of Large numbers\n",
    "$X_i$ iid random variables\n",
    "$E[X_i] = \\mu, E[(X_i-\\mu)^2]=\\sigma^2$  \n",
    "$$M_n = \\frac{1}{n}\\sum_{j=1}^{n} X_j$$  \n",
    "$$E[M_n] = \\mu, E[(M_n-\\mu)^2]=\\frac{\\sigma^2}{n}$$ \n",
    "  \n",
    "$$\n",
    "P[|M_n-\\mu|\\geq \\epsilon]\\leq \\frac{\\sigma^2}{n\\epsilon^2}\n",
    "$$   \n",
    "$$\n",
    "P[|M_n-\\mu| < \\epsilon]\\geq 1-\\frac{\\sigma^2}{n\\epsilon^2}\n",
    "$$\n",
    "  \n",
    "$$\n",
    "\\lim_{n \\to \\infty}P[|M_n-\\mu|<\\epsilon]=1\n",
    "$$"
   ]
  },
  {
   "cell_type": "markdown",
   "metadata": {},
   "source": [
    "# Characteristic function\n",
    "$\\Phi_X(\\omega) = E[e^{j\\omega X}]$  \n",
    "#### 1) gaussian normal distribution case\n",
    "Probability distribution function\n",
    "$$f_X(x) = \\frac{1}{\\sqrt{2\\pi}\\sigma}e^{-\\frac{(x-m)^2}{2\\sigma^2}}$$\n",
    "Characteristic funtion\n",
    "$$\\Phi_X(\\omega) = E[e^{j\\omega X}]$$\n",
    "  \n",
    "$$=\\int_{-\\infty}^{\\infty} \\frac{1}{\\sqrt{2\\pi}\\sigma}e^{-\\frac{(x-m)^2}{2\\sigma^2}+j\\omega x} dx $$\n",
    "  \n",
    "$$=e^{j\\omega m-\\omega^2\\sigma^2/2}\\int_{-\\infty}^{\\infty} \\frac{1}{\\sqrt{2\\pi}\\sigma}e^{-\\frac{(x-(m+j\\omega \\sigma^2))^2}{2\\sigma^2}} dx $$  \n",
    "  \n",
    "$$=e^{j\\omega m-\\omega^2\\sigma^2/2}$$"
   ]
  },
  {
   "cell_type": "markdown",
   "metadata": {},
   "source": [
    "# Central limit theorem\n",
    "$X_i$ iid random variables   \n",
    "$E[X_i] = \\mu, E[(X_i-\\mu)^2]=\\sigma^2$\n",
    "$$\n",
    "Z_n=\\frac{\\sum_{k=1}^{n} (X_k-\\mu)}{\\sqrt{n}}\n",
    "$$\n",
    "Then $Z_n$ follows the gaussian distribution mean 0 and variance $\\sigma^2$   \n",
    "or $Z_n \\sim N(0,\\sigma^2)$\n",
    "  \n",
    "$\\textit{proof)}$  \n",
    "Characteristic function of $Z_n$  \n",
    "$$\\Phi_{Z_n}(\\omega) = E[e^{j\\omega \\frac{\\sum_{k=1}^{n} (X_k-\\mu)}{\\sqrt{n}}}]=\n",
    "E[\\prod_{k=1}^{n}e^{j\\omega \\frac{(X_k-\\mu)}{\\sqrt{n}}}]$$(iid condition)  \n",
    "$$=\\prod_{k=1}^{n}E[e^{j\\omega \\frac{(X_k-\\mu)}{\\sqrt{n}}}] = (E[e^{j\\omega \\frac{(X_k-\\mu)}{\\sqrt{n}}}])^n $$  \n",
    "$$=(1+j\\omega \\frac{(X_k-\\mu)}{\\sqrt{n}}-\\omega^2 \\frac{(X_k-\\mu)^2}{2n}+E[R(\\omega)])^n$$ \n",
    "$$\\lim_{n\\to \\infty}\\Phi_{Z_n}(\\omega)=(1-\\frac{\\omega^2\\sigma^2}{2n})^n= e^{\\frac{-\\omega^2\\sigma^2}{2}}$$  \n",
    "$$\\lim_{n\\to \\infty} P(Z_n = z) = \\frac{1}{\\sqrt{2\\pi}\\sigma}e^{-\\frac{z^2}{2\\sigma^2}}$$"
   ]
  },
  {
   "cell_type": "markdown",
   "metadata": {},
   "source": [
    "# Gamma function\n",
    "$\\Gamma(z)=\\int_{0}^{\\infty}e^{-x}x^{z-1}dx$  \n",
    "$\\Gamma(z+1)=\\int_{0}^{\\infty}e^{-x}x^{z}dx = -e^{-x}x^{z}|_{0}^{\\infty}+z\\int_{0}^{\\infty}e^{-x}x^{z-1}dx=z\\Gamma(z)$ \n",
    "  \n",
    "   \n",
    "$$\\Gamma(\\frac{1}{2})=\\int_{0}^{\\infty}\\frac{e^{-x}}{\\sqrt{x}}dx = \\int_{0}^{\\infty} 2e^{-y^2} dy$$  \n",
    "  \n",
    "(change of variable $x=y^2$) \n",
    "  \n",
    "    \n",
    "$$\\Gamma(\\frac{1}{2})^2=\\int_{0}^{\\infty} 2e^{-x^2} dx \\cdot \\int_{0}^{\\infty} 2e^{-y^2} dy= \\int_{0}^{\\infty} \\int_{0}^{\\infty} 4e^{-x^2-y^2} dxdy$$(change of variable\n",
    "$x=rcos\\theta, y=rsin\\theta$)\n",
    "  \n",
    "    \n",
    "$$=\\int_{0}^{\\frac{\\pi}{2}} \\int_{0}^{\\infty} 4e^{-r^2} rdrd\\theta =\\int_{0}^{\\frac{\\pi}{2}}  -2e^{-r^2} |_{0}^{\\infty}d\\theta = \\pi$$\n",
    "\n",
    "  \n",
    "$$\\Gamma(\\frac{1}{2}) = \\sqrt{\\pi}$$\n",
    "\n",
    "$$\\Gamma(1)=1, \\Gamma(n)=(n-1)!$$($n$ is integer)"
   ]
  },
  {
   "cell_type": "markdown",
   "metadata": {},
   "source": [
    "# Beta function"
   ]
  },
  {
   "cell_type": "markdown",
   "metadata": {},
   "source": [
    "$B(x,y) = \\int_0^{1} t^{x-1}(1-t)^{y-1}dt$\n",
    "$$\\Gamma(x)\\Gamma(y) = \\int_0^{\\infty} u^{x-1}e^{-u}du\\cdot\\int_0^{\\infty} v^{y-1}e^{-v}dv$$  \n",
    "  \n",
    "$$= \\int_0^{\\infty} \\int_0^{\\infty} u^{x-1}v^{y-1}e^{-(u+v)}dudv$$  \n",
    "Change of variable $u=zt, v=z(1-t)$\n",
    "\n",
    "$$= \\int_0^{\\infty} \\int_0^{1} (zt)^{x-1}(z(1-t))^{y-1}e^{-z}zdtdz$$  \n",
    "  \n",
    "$$= \\int_0^{\\infty} \\int_0^{1} z^{x+y-1}t^{x-1}(1-t)^{y-1}e^{-z}dtdz$$ \n",
    "  \n",
    " $$= \\int_0^{\\infty}z^{x+y-1}e^{-z} dz \\cdot\\int_0^{1} t^{x-1}(1-t)^{y-1}dt$$\n",
    " \n",
    "$$= \\Gamma(x+y)B(x,y)$$\n",
    "\n",
    "$$ B(x,y)=\\frac{\\Gamma(x)\\Gamma(y)}{\\Gamma(x+y)}$$"
   ]
  },
  {
   "cell_type": "markdown",
   "metadata": {},
   "source": [
    "# Chi square proof\n",
    "$z_i \\sim N(0,1)$, and \n",
    "$$P(z_i)=\\frac{1}{\\sqrt{2\\pi}}e^{-\\frac{z_i^2}{2}}$$\n",
    " \n",
    "Random variable $X$  \n",
    "$$ X = \\sum_{i=0}^{n}z_i^2$$\n",
    "\n",
    "$$ P(X \\leq x)= \\int_{z_1^2+\\cdots+z_n^2 \\leq x} \\prod_{i=1}^{n}P(z_i)dz_1\\cdots dz_n$$\n",
    "  (for $x\\geq0$)\n",
    "  \n",
    "$$ P(x-dx \\leq X \\leq x)= \\frac{1}{(2\\pi)^{n/2}}\\int_{x-dx \\leq z_1^2+\\cdots+z_n^2 \\leq x} e^{-\\frac{z_1^2+\\cdots+z_n^2}{2}}dz_1\\cdots dz_n$$  \n",
    "\n",
    "$$ = e^{-\\frac{x}{2}}\\frac{1}{(2\\pi)^{n/2}}\\int_{x-dx \\leq z_1^2+\\cdots+z_n^2 \\leq x} dz_1\\cdots dz_n$$  "
   ]
  },
  {
   "cell_type": "markdown",
   "metadata": {},
   "source": [
    " Let  \n",
    "$$ f_{n}(x)= \\int_{z_1^2+\\cdots+z_n^2 \\leq x} dz_1\\cdots dz_n$$  \n",
    "  "
   ]
  },
  {
   "cell_type": "markdown",
   "metadata": {},
   "source": [
    "$\\textbf{Property1}$  \n",
    "change of variable $z_i = \\sqrt{x}\\cdot y_i$\n",
    "$$ f_{n}(x)= x^{n/2}\\int_{y_1^2+\\cdots+y_n^2 \\leq 1} dy_1\\cdots dy_n = x^{n/2}f_n(1)$$ "
   ]
  },
  {
   "cell_type": "markdown",
   "metadata": {},
   "source": [
    "$\\textbf{Property2}$\n",
    "$$ f_{n}(1)= \\int_{-1}^{1}\\int_{z_1^2+\\cdots+z_{n-1}^2 \\leq 1-z_n^2} dz_1\\cdots dz_{n-1} dz_n$$  \n",
    "  \n",
    "$$ f_{n}(1)= \\int_{-1}^{1}f_{n-1}(1-z_n^2)dz_n$$\n",
    "\n",
    "$$ f_{n}(1)= f_{n-1}(1)\\int_{-1}^{1}(1-z_n^2)^{(n-1)/2}dz_n$$\n",
    "\n",
    "$$ = f_{n-1}(1)\\frac{\\Gamma(\\frac{n-1}{2}+1)\\Gamma(\\frac{1}{2})}{\\Gamma(\\frac{n}{2}+1)}$$\n",
    "$$ = \\frac{f_{1}(1)}{2}\\frac{\\Gamma(\\frac{1}{2})^{n}}{\\Gamma(\\frac{n}{2}+1)}$$\n",
    "  \n",
    "$$ = \\frac{\\pi^{n/2}}{\\Gamma(\\frac{n}{2}+1)}$$"
   ]
  },
  {
   "cell_type": "markdown",
   "metadata": {},
   "source": [
    "$\\textbf{Lemma}$  \n",
    "$$\\int_{-1}^{1}(1-x^2)^{n/2}dx = 2\\int_{0}^{1}(1-x^2)^{n/2}dx$$  \n",
    "change of variable $x = \\sqrt{y}$   \n",
    "$$= \\int_{0}^{1}(1-y)^{n/2}y^{-1/2}dy = \\frac{\\Gamma(\\frac{n}{2}+1)\\Gamma(\\frac{1}{2})}{\\Gamma(\\frac{n+1}{2}+1)}$$  "
   ]
  },
  {
   "cell_type": "markdown",
   "metadata": {},
   "source": [
    "$$ P(X=x)=\\frac{P(x-dx \\leq X \\leq x)}{dx}=\n",
    "e^{-\\frac{x}{2}}\\frac{1}{(2\\pi)^{n/2}}\n",
    "\\frac{f_n(x)-f_n(x-dx)}{dx}$$  \n",
    "\n",
    "$$= e^{-\\frac{x}{2}}\\frac{1}{(2\\pi)^{n/2}}\\frac{d}{dx}f_n(x)= e^{-\\frac{x}{2}}\\frac{1}{(2\\pi)^{n/2}}\\frac{d}{dx}(x^{n/2}f_n(1))$$\n",
    "  \n",
    "$$ = \\frac{1}{2^{n/2}\\Gamma(\\frac{n}{2})}x^{n/2-1}e^{-\\frac{x}{2}}$$"
   ]
  }
 ],
 "metadata": {
  "kernelspec": {
   "display_name": "Python 3",
   "language": "python",
   "name": "python3"
  },
  "language_info": {
   "codemirror_mode": {
    "name": "ipython",
    "version": 3
   },
   "file_extension": ".py",
   "mimetype": "text/x-python",
   "name": "python",
   "nbconvert_exporter": "python",
   "pygments_lexer": "ipython3",
   "version": "3.6.0"
  }
 },
 "nbformat": 4,
 "nbformat_minor": 2
}
