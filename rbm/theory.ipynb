{
 "cells": [
  {
   "cell_type": "markdown",
   "metadata": {
    "deletable": true,
    "editable": true
   },
   "source": [
    "# Restricted Bolzmann machines\n",
    "\n",
    "$\\textbf{v,h}\\in \\{0,1\\}^{m+n}$\n",
    "  \n",
    "&nbsp; $m$ : number of visible node  \n",
    "&nbsp; $n$ : number of hidden nodde  \n",
    "$\\textbf{v}$ : visilbe nodes $(v_1,v_2,\\cdots,v_m)^T$ ($m \\times 1 $ matrix)  \n",
    "$\\textbf{j}$ : hidden nodes $(h_1,h_2,\\cdots,h_n)^T$  ($n \\times 1 $ matrix)\n",
    "    \n",
    "$w_{i,j}, b_j, c_i \\in \\mathbb{R}$   \n",
    "$W : n \\times m $ matrix  \n",
    "$b : m \\times 1 $ matrix  \n",
    "$c : n \\times 1 $ matrix    \n",
    "$$E(\\textbf{v},\\textbf{h})= -\\sum_{i=1}^{n}\\sum_{j=1}^{m}w_{ij}h_iv_j-\\sum_{i=1}^nc_ih_i-\\sum_{j=1}^{m}b_jv_j$$\n",
    "$$\n",
    "= -\\mathbf{w}^TW\\mathbf{v}-c^T\\mathbf{h}-b^T\\mathbf{v}\n",
    "$$\n"
   ]
  },
  {
   "cell_type": "markdown",
   "metadata": {
    "deletable": true,
    "editable": true
   },
   "source": [
    "$$p(\\mathbf{v,h}) = \\frac{e^{-E(\\mathbf{v,h})}}{\\sum_{\\mathbf{v,h}}e^{-E(\\mathbf{v,h})}}$$"
   ]
  },
  {
   "cell_type": "markdown",
   "metadata": {
    "deletable": true,
    "editable": true
   },
   "source": [
    "# Likelihood\n",
    "$$\\mathcal{L}(\\theta|v)=p(\\mathbf{v}|\\theta)\n",
    "=\\frac{\\sum_{\\mathbf{h}}e^{-E(\\mathbf{v,h})}}{\\sum_{\\mathbf{v,h}}e^{-E(\\mathbf{v,h})}}$$\n",
    "\n",
    "$$\\ln\\mathcal{L}(\\theta|v)=\\ln p(\\mathbf{v}|\\theta)\n",
    "=\\ln{\\sum_{\\mathbf{h}}e^{-E(\\mathbf{v,h})}}\n",
    "-\\ln{\\sum_{\\mathbf{v,h}}e^{-E(\\mathbf{v,h})}}$$\n",
    "\n",
    "$$\\frac{\\partial\\ln\\mathcal{L}(\\theta|v)}{\\partial \\theta}\n",
    "=\\frac{\\partial}{\\partial \\theta} \\Big{(} \\ln{\\sum_{\\mathbf{h}}e^{-E(\\mathbf{v,h})}} \\Big{)}\n",
    "-\\frac{\\partial}{\\partial \\theta} \\Big{(} \\ln{\\sum_{\\mathbf{v,h}}e^{-E(\\mathbf{v,h})}} \\Big{)}$$\n",
    "\n",
    "$$=-\\frac{1}{\\sum_{\\mathbf{h}}e^{-E(\\mathbf{v,h})}}\n",
    "\\sum_{\\mathbf{h}}e^{-E(\\mathbf{v,h})}\\frac{\\partial E(\\mathbf{v,h})}{\\partial \\theta}\n",
    "+\\frac{1}{\\sum_{\\mathbf{v,h}}e^{-E(\\mathbf{v,h})}}\n",
    "\\sum_{\\mathbf{v,h}}e^{-E(\\mathbf{v,h})}\\frac{\\partial E(\\mathbf{v,h})}{\\partial \\theta}\n",
    "$$\n",
    "\n",
    "$$=-\\sum_{\\mathbf{h}}p(\\mathbf{h}|\\mathbf{v})\\frac{\\partial E(\\mathbf{v,h})}{\\partial \\theta}\n",
    "+\n",
    "\\sum_{\\mathbf{v,h}}p(\\mathbf{v},\\mathbf{h})\\frac{\\partial E(\\mathbf{v,h})}{\\partial \\theta}\n",
    "$$\n",
    "### note\n",
    "$$p(\\mathbf{h}|\\mathbf{v})=\\frac{p(\\mathbf{v,h})}{p(\\mathbf{v})}\n",
    "=\\frac{\\frac{1}{Z}e^{-E(\\mathbf{v,h})}}{\\frac{1}{Z}\\sum_{\\mathbf{h}}e^{-E(\\mathbf{v,h})}}\n",
    "(Z \\textsf{ is nomalizing constant})$$"
   ]
  },
  {
   "cell_type": "markdown",
   "metadata": {
    "deletable": true,
    "editable": true
   },
   "source": [
    "$$p(\\mathbf{h}|\\mathbf{v})=\\prod_{i=1}^n p(h_i|\\mathbf{v})$$\n",
    "\n",
    "$$p(H_i =1 | \\mathbf{v}) = sigmoid(\\sum_{j=1}^m w_{ij}v_j + c_i)$$\n",
    "$$p(V_j =1 | \\mathbf{h}) = sigmoid(\\sum_{j=1}^n w_{ij}v_j + b_j)$$ "
   ]
  },
  {
   "cell_type": "markdown",
   "metadata": {
    "deletable": true,
    "editable": true
   },
   "source": [
    "### Gradient of Liklihood\n",
    "$\\theta = w_{ij},b_{i},c_{i}$\n",
    "$$\\frac{\\partial\\ln\\mathcal{L}(\\theta|v)}{\\partial w_{ij}}=-\\sum_{\\mathbf{h}}p(\\mathbf{h}|\\mathbf{v})\\frac{\\partial E(\\mathbf{v,h})}{\\partial w_{ij}}\n",
    "+\n",
    "\\sum_{\\mathbf{v,h}}p(\\mathbf{v},\\mathbf{h})\\frac{\\partial E(\\mathbf{v,h})}{\\partial w_{ij}}\n",
    "$$\n",
    "\n",
    "$$=\\sum_{\\mathbf{h}}p(\\mathbf{h}|\\mathbf{v})h_iv_j\n",
    "+\\sum_{\\mathbf{v,h}}p(\\mathbf{v},\\mathbf{h})h_iv_j\n",
    "$$"
   ]
  }
 ],
 "metadata": {
  "kernelspec": {
   "display_name": "Python 3",
   "language": "python",
   "name": "python3"
  },
  "language_info": {
   "codemirror_mode": {
    "name": "ipython",
    "version": 3
   },
   "file_extension": ".py",
   "mimetype": "text/x-python",
   "name": "python",
   "nbconvert_exporter": "python",
   "pygments_lexer": "ipython3",
   "version": "3.4.5"
  }
 },
 "nbformat": 4,
 "nbformat_minor": 2
}
