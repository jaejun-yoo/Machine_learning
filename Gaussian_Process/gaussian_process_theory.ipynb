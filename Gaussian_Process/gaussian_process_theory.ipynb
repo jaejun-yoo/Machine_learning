{
 "cells": [
  {
   "cell_type": "markdown",
   "metadata": {},
   "source": [
    "# Sum of independent Gaussians"
   ]
  },
  {
   "cell_type": "markdown",
   "metadata": {},
   "source": [
    "## Condition\n",
    "\n",
    "$Y\\sim \\mathcal{N}(\\mu,\\Sigma), Z\\sim \\mathcal{N}(\\mu',\\Sigma')$\n",
    "\n",
    "\n",
    "$$p(Y=\\mathbf{y}) = \\frac{1}{(2\\pi)^{n/2}|\\Sigma|^{1/2}}e^{-\\frac{1}{2}(\\mathbf{y}-\\mu)^T\\Sigma^{-1}(\\mathbf{y}-\\mu)}$$\n",
    "$$p(Z=\\mathbf{z}) = \\frac{1}{(2\\pi)^{n/2}|\\Sigma'|^{1/2}}e^{-\\frac{1}{2}(\\mathbf{z}-\\mu')^T\\Sigma'^{-1}(\\mathbf{z}-\\mu')}$$\n",
    "\n",
    "## Then\n",
    "\n",
    "$$Y+Z \\sim \\mathcal{N}(\\mu+\\mu', \\Sigma+ \\Sigma')$$"
   ]
  },
  {
   "cell_type": "markdown",
   "metadata": {},
   "source": [
    "$\\texttt{proof)}$"
   ]
  },
  {
   "cell_type": "markdown",
   "metadata": {},
   "source": [
    "$$P(Y+Z=k)=\\int_{-\\infty}^{\\infty}P(Y=x)P(Z=k-x)dx$$"
   ]
  },
  {
   "cell_type": "markdown",
   "metadata": {},
   "source": [
    "# Conditioning of Multivariate Gaussian"
   ]
  },
  {
   "cell_type": "markdown",
   "metadata": {},
   "source": [
    "#### Random vector  \n",
    "a random vector $\\mathbf{x}=(\\mathbf{x_1},\\mathbf{x_2}) \\in \\mathbb{R}^n$ with $\\mathbf{x}\\sim \\mathcal{N}(\\mu,\\Sigma)$\n",
    "\n",
    "#### Note\n",
    "$$p(\\mathbf{x}|\\mu,\\Sigma) = \\frac{1}{(2\\pi)^{n/2}|\\Sigma|^{1/2}}e^{-\\frac{1}{2}(\\mathbf{x}-\\mu)^T\\Sigma^{-1}(\\mathbf{x}-\\mu)}$$\n",
    "  \n",
    "$\\mathbf{x_1} = [x_1,\\cdots,x_r]^T \\in \\mathbb{R}^r$  \n",
    "  \n",
    "$\\mathbf{x_2} = [x_{r+1},\\cdots,x_n]^T \\in \\mathbb{R}^{n-r}$  \n",
    "  \n",
    "$\\mu = \n",
    "\\begin{pmatrix}\n",
    "    \\mu_1(=E[\\mathbf{x_1}]) \\\\\n",
    "    \\mu_2(=E[\\mathbf{x_2}]) \\\\\n",
    "\\end{pmatrix}\n",
    "$, $\\Sigma =\n",
    "\\begin{pmatrix}\n",
    "    \\Sigma_{11}(=E[(\\mathbf{x_1}-\\mu_1)^2)]) & \\Sigma_{12}(=E[(\\mathbf{x_1}-\\mu_1)(\\mathbf{x_2}-\\mu_2)^T])\\\\\n",
    "    \\Sigma_{21}(=E[(\\mathbf{x_2}-\\mu_2)(\\mathbf{x_1}-\\mu_1)^T]) & \\Sigma_{22}(=E[(\\mathbf{x_2}-\\mu_2)^2])\\\\\n",
    "\\end{pmatrix}$\n",
    ",\n",
    "$\\Lambda = \\Sigma^{-1} =\n",
    "\\begin{pmatrix}\n",
    "    \\Lambda_{11} & \\Lambda_{12}\\\\\n",
    "    \\Lambda_{21} & \\Lambda_{22}\\\\\n",
    "\\end{pmatrix}$"
   ]
  },
  {
   "cell_type": "markdown",
   "metadata": {},
   "source": [
    "##### Lemma\n",
    "$\\Sigma_{21} = \\Sigma_{12}^T$, $\\Lambda_{21} = \\Lambda_{12}^T$  \n",
    "$\\Sigma_{11} = \\Sigma_{11}^T$, $\\Lambda_{11} = \\Lambda_{11}^T$  \n",
    "$\\Sigma_{22} = \\Sigma_{22}^T$, $\\Lambda_{22} = \\Lambda_{22}^T$  \n",
    "$\n",
    "\\begin{pmatrix}\n",
    "    \\Sigma_{11} & \\Sigma_{12}\\\\\n",
    "    \\Sigma_{12}^T & \\Sigma_{22}\\\\\n",
    "\\end{pmatrix}\\times\n",
    "\\begin{pmatrix}\n",
    "    \\Lambda_{11} & \\Lambda_{12}\\\\\n",
    "    \\Lambda_{12}^T & \\Lambda_{22}\\\\\n",
    "\\end{pmatrix}= \\begin{pmatrix}\n",
    "    I_{r} & 0\\\\\n",
    "    0 & I_{n-r}\\\\\n",
    "\\end{pmatrix}$\n",
    "\n",
    "1. $\\Sigma_{11}\\Lambda_{11}+\\Sigma_{12}\\Lambda_{12}^T = I_r$ \n",
    "2. $\\Sigma_{12}^T\\Lambda_{12}+\\Sigma_{22}\\Lambda_{22} = I_{n-r}$ \n",
    "3. $\\Sigma_{11}\\Lambda_{12}+\\Sigma_{12}\\Lambda_{22} = 0$   \n",
    "4. $\\Sigma_{12}^T\\Lambda_{11}+\\Sigma_{22}\\Lambda_{12}^T=0$  \n",
    "$\\Lambda_{12}\\Lambda_{22}^{-1}\\Lambda_{12}^T+(\\Sigma_{12}^T)^{-1}\\Sigma_{22}\\Lambda_{12}^T = (\\Sigma_{12}^T)^{-1}\\Lambda_{22}^{-1}\\Lambda_{12}^T=(\\Lambda_{22}\\Sigma_{12}^T)^{-1}\\Lambda_{12}^T $(2.)  \n",
    "$\\Lambda_{11}+(\\Sigma_{12}^T)^{-1}\\Sigma_{22}\\Lambda_{12}^T=0$(4.)  \n",
    "$\\Lambda_{22}\\Sigma_{12}^T = -\\Lambda_{12}^T\\Sigma_{11}$(3.)  \n",
    "$\\therefore \\Lambda_{12}\\Lambda_{22}^{-1}\\Lambda_{12}^T-\\Lambda_{11} = -\\Sigma_{11}^{-1}$  "
   ]
  },
  {
   "cell_type": "markdown",
   "metadata": {},
   "source": [
    "#### Marginals  \n",
    "$\\mathbf{x_1}\\sim \\mathcal{N}(\\mu_1,\\Sigma_{11})$  \n",
    "$\\mathbf{x_2}\\sim \\mathcal{N}(\\mu_2,\\Sigma_{22})$\n",
    "\n",
    "$\\texttt{proof)}$\n",
    "  \n",
    "$$ p(\\mathbf{x_1}) = \\int_{-\\infty}^{\\infty} p(\\mathbf{x_1},\\mathbf{x_2})d\\mathbf{x_2} =  \\frac{1}{(2\\pi)^{n/2}|\\Sigma|^{1/2}}\\int_{-\\infty}^{\\infty} {\\exp}\\Big{(}-\\frac{1}{2}(\\mathbf{x}-\\mu)^T\\Sigma^{-1}(\\mathbf{x}-\\mu)\\Big{)}d\\mathbf{x_2}$$\n",
    "\n",
    "$$= \\frac{1}{(2\\pi)^{n/2}|\\Sigma|^{1/2}}\\int_{-\\infty}^{\\infty} {\\exp}\\Big{(}\n",
    "-\\frac{1}{2}(\\mathbf{x_1}-\\mu_1)^T\\Lambda_{11}(\\mathbf{x_1}-\\mu_1)\n",
    "-\\frac{1}{2}(\\mathbf{x_2}-\\mu_2)^T\\Lambda_{22}(\\mathbf{x_2}-\\mu_2)\n",
    "-\\frac{1}{2}(\\mathbf{x_1}-\\mu_1)^T\\Lambda_{12}(\\mathbf{x_2}-\\mu_2)\n",
    "-\\frac{1}{2}(\\mathbf{x_2}-\\mu_2)^T\\Lambda_{12}^T(\\mathbf{x_1}-\\mu_1)\n",
    "\\Big{)}d\\mathbf{x_2}$$\n",
    "\n",
    "$$= \\frac{1}{(2\\pi)^{n/2}|\\Sigma|^{1/2}}\n",
    "\\exp\\Big{(}-\\frac{1}{2}(\\mathbf{x_1}-\\mu_1)^T(\\Lambda_{11}-\\Lambda_{12}\\Lambda_{22}^{-1}\\Lambda_{12}^T)(\\mathbf{x_1}-\\mu_1)\\Big{)}$$\n",
    "$$\n",
    "\\int_{-\\infty}^{\\infty} \\exp\\Big{(}\n",
    "-\\frac{1}{2}\\big{(}(\\mathbf{x_2}-\\mu_2)+\\Lambda_{22}^{-1}\\Lambda_{12}^{T}(\\mathbf{x_1}-\\mu_1)\\big{)}^T\\Lambda_{22}\\big{(}(\\mathbf{x_2}-\\mu_2)+\\Lambda_{22}^{-1}\\Lambda_{12}^{T}(\\mathbf{x_1}-\\mu_1)\\big{)}\\Big{)}d\\mathbf{x_2}$$\n",
    "\n",
    "$$= \\frac{1}{(2\\pi)^{n/2}|\\Sigma|^{1/2}}\n",
    "\\exp\\Big{(}-\\frac{1}{2}(\\mathbf{x_1}-\\mu_1)^T\\Sigma_{11}^{-1}(\\mathbf{x_1}-\\mu_1)\\Big{)}$$\n",
    "$$\n",
    "\\int_{-\\infty}^{\\infty} \\exp\\big{(}\n",
    "-\\frac{1}{2}(\\mathbf{x_2}-\\mu^*)^T\\Lambda_{22}(\\mathbf{x_2}-\\mu^*)\\big{)}d\\mathbf{x_2}$$\n",
    "$$= \\frac{1}{(2\\pi)^{n/2}|\\Sigma|^{1/2}}\n",
    "\\exp\\Big{(}-\\frac{1}{2}(\\mathbf{x_1}-\\mu_1)^T\\Sigma_{11}^{-1}(\\mathbf{x_1}-\\mu_1)\\Big{)}$$\n",
    "$$\n",
    "(2\\pi)^{(n-r)/2}|\\Lambda_{22}^{-1}|^{1/2}$$\n",
    "\n",
    "$$= \\frac{1}{(2\\pi)^{r/2}|\\Sigma_{11}|^{1/2}}\n",
    "\\exp\\Big{(}-\\frac{1}{2}(\\mathbf{x_1}-\\mu_1)^T\\Sigma_{11}^{-1}(\\mathbf{x_1}-\\mu_1)\\Big{)}=\\mathcal{N}(\\mu_1,\\Sigma_{11})$$"
   ]
  },
  {
   "cell_type": "markdown",
   "metadata": {},
   "source": [
    "### Conditional of a joint distribution"
   ]
  }
 ],
 "metadata": {
  "kernelspec": {
   "display_name": "Python 3",
   "language": "python",
   "name": "python3"
  },
  "language_info": {
   "codemirror_mode": {
    "name": "ipython",
    "version": 3
   },
   "file_extension": ".py",
   "mimetype": "text/x-python",
   "name": "python",
   "nbconvert_exporter": "python",
   "pygments_lexer": "ipython3",
   "version": "3.6.0"
  }
 },
 "nbformat": 4,
 "nbformat_minor": 2
}
