{
 "cells": [
  {
   "cell_type": "markdown",
   "metadata": {},
   "source": [
    "# LDA(linear Discriminant analysis)"
   ]
  },
  {
   "cell_type": "markdown",
   "metadata": {},
   "source": [
    "### Into\n",
    "In the supervised learning, *LDA* is a kind of dimension reduction method,   \n",
    "  \n",
    "while *PCA* is the dimension reduction method in the unsupervised learning.    \n",
    "  \n",
    "*LDA* is to find the projection which discriminates each class well."
   ]
  },
  {
   "cell_type": "markdown",
   "metadata": {},
   "source": [
    "### Objective\n",
    "Find the projection which maximizes\n",
    "$$S = \\frac{\\sigma_{between}^2}{\\sigma_{within}^2}$$"
   ]
  },
  {
   "cell_type": "markdown",
   "metadata": {},
   "source": [
    "### Note\n",
    "For vetor $v$, let the projection on unit vector $w$ : $Proj_w(v)$  \n",
    "$$\\big{|}Proj_w(v)\\big{|} = |v| \\cos \\theta = w \\cdot v =w^Tv$$   \n",
    "while $\\theta$ is the angle between $w$, and $v$ "
   ]
  },
  {
   "cell_type": "markdown",
   "metadata": {},
   "source": [
    "### Problem define\n",
    "1. Datas are located in $m$ dimensional real space.  \n",
    "2. For class, $i$ while $i = 1,2,\\cdots, k$,   \n",
    "Datas(which are $  m\\times 1 $vectors) are   \n",
    "$x_{i1}, x_{i2}, x_{i3}, \\cdots, x_{in_i}$,\n",
    "\n",
    "3. \n",
    "$$\\mu_i = \\frac{1}{n_i}\\sum_{j=1}^{n_i} x_{ij}$$   \n",
    "$$\\Sigma_i = \\frac{1}{n_i}\\sum_{j=1}^{n_i} (x_{ij}-\\mu_i)(x_{ij}-\\mu_i)^T$$\n",
    "$\\mu_i$s are $m\\times 1$ vetors, $\\Sigma_i$s are $m \\times m$ matrixes\n",
    "\n",
    "4. \n",
    "$$\\mu = \\frac{1}{k}\\sum_{i=1}^{k} \\mu_i$$   \n",
    "$$\\Sigma = \\frac{1}{k}\\sum_{i=1}^{k} (\\mu_i-\\mu)(\\mu_i-\\mu)^T$$\n",
    "$\\mu_i$s are $m\\times 1$ vetors, $\\Sigma_i$s are $m \\times m$ matrixes"
   ]
  },
  {
   "cell_type": "markdown",
   "metadata": {},
   "source": [
    "### Note2\n",
    "$$\\sigma_{between}^2 = \\frac{1}{k}\\sum_{i=1}^{k} (w^T\\mu_i-w^T\\mu)^2=\\frac{1}{k}\\sum_{i=1}^{k} (w^T\\mu_i-w^T\\mu)(w^T\\mu_i-w^T\\mu)^T$$\n",
    "$$ =\\frac{1}{k}\\sum_{i=1}^{k} w^T(\\mu_i-\\mu)(\\mu_i-\\mu)^Tw=w^T\\Sigma w$$\n",
    " $$\\sigma_{within}^2 = \\sum_{i=1}^{k}w^T\\Sigma_i w$$"
   ]
  },
  {
   "cell_type": "markdown",
   "metadata": {},
   "source": [
    "$$S = \\frac{\\sigma_{between}^2}{\\sigma_{within}^2}=\\frac{w^T\\Sigma w}{\\sum_{i=1}^{k}w^T\\Sigma_i w}=\n",
    "\\frac{w^T\\Sigma w}{w^T\\sum_{i=1}^{k}\\Sigma_i w}$$"
   ]
  },
  {
   "cell_type": "markdown",
   "metadata": {},
   "source": [
    "### Lemma \n",
    "For $||w|| = 1$  \n",
    "Find $w$ which maximizes $$S= \\frac{w^TAw}{w^TBw}$$\n",
    "$$B^{-1}Aw = S w$$(proved by simple derivative)"
   ]
  },
  {
   "cell_type": "markdown",
   "metadata": {},
   "source": [
    "### Final remark\n",
    "It's enough to find the maximum eigen_value of $$(\\sum_{i=1}^{k} \\Sigma_i)^{-1}\\Sigma$$\n",
    "which is symmetric => othogonally diagonalizable"
   ]
  },
  {
   "cell_type": "markdown",
   "metadata": {},
   "source": [
    "### Implementation"
   ]
  },
  {
   "cell_type": "code",
   "execution_count": 1,
   "metadata": {
    "collapsed": false
   },
   "outputs": [],
   "source": [
    "import matplotlib.pyplot as plt\n",
    "import numpy as np"
   ]
  },
  {
   "cell_type": "code",
   "execution_count": 2,
   "metadata": {
    "collapsed": false
   },
   "outputs": [],
   "source": [
    "def class_generator(npoints, mu = [0,0], cov = [[0.1, 0],[0, 0.1]]):\n",
    "    class_dict = {}\n",
    "    class_dict['mu'] = mu\n",
    "    class_dict['cov'] = cov\n",
    "    class_dict['npoints'] = npoints\n",
    "    class_dict['points'] = np.random.multivariate_normal(mean = mu, cov = cov, size = npoints)\n",
    "    return class_dict\n",
    "\n",
    "\n",
    "def S_calculator(w, point_classes):\n",
    "    cov = []\n",
    "    mean = []\n",
    "    for i in range(len(point_classes)):\n",
    "        cov.append(np.cov(point_classes[i]['points'].T))\n",
    "        mean.append(np.mean(point_classes[i]['points'], axis =0))\n",
    "    B = np.sum(np.array(cov), axis = 0)\n",
    "    A = np.cov(np.array(mean).T)\n",
    "    \n",
    "    return np.matmul(np.matmul(np.reshape(w, [1,-1]),A),np.reshape(w, [-1,1]))/np.matmul(np.matmul(np.reshape(w, [1,-1]),B),np.reshape(w, [-1,1]))\n",
    "\n",
    "\n",
    "def LDA(point_classes):\n",
    "    cov = []\n",
    "    mean = []\n",
    "    for i in range(len(point_classes)):\n",
    "        cov.append(np.cov(point_classes[i]['points'].T))\n",
    "        mean.append(np.mean(point_classes[i]['points'],axis =0 ))\n",
    "    B = np.sum(np.array(cov), axis = 0)\n",
    "    A = np.cov(np.array(mean).T)\n",
    "    w, v= np.linalg.eig(np.matmul(np.linalg.inv(B),A))\n",
    "    return w, v.T\n",
    "    \n",
    "def plotter(class_dict, style = 'bo'):\n",
    "    temp = class_dict['points']\n",
    "    for i in range(class_dict['npoints']):\n",
    "        plt.plot(temp[i][0],temp[i][1], style)\n",
    "\n",
    "def projection_plotter(class_dict, proj, style = 'bo'):\n",
    "    temp = class_dict['points']\n",
    "    for i in range(class_dict['npoints']):\n",
    "        plt.plot(np.dot(temp[i], proj[0]),np.dot(temp[i], proj[1]), style)       "
   ]
  },
  {
   "cell_type": "code",
   "execution_count": 3,
   "metadata": {
    "collapsed": false
   },
   "outputs": [],
   "source": [
    "classes = []\n",
    "classes.append(class_generator(50, mu = [2, 6], cov = [[0.2, 0.15],[0.15,0.2]]))\n",
    "classes.append(class_generator(50, mu = [2.5, 5.5], cov = [[0.2, 0.15],[0.15,0.2]]))\n",
    "classes.append(class_generator(50, mu = [3, 5], cov = [[0.2, 0.15],[0.15,0.2]]))"
   ]
  },
  {
   "cell_type": "code",
   "execution_count": 4,
   "metadata": {
    "collapsed": false
   },
   "outputs": [
    {
     "name": "stdout",
     "output_type": "stream",
     "text": [
      "[ 0.0056909   3.53449678]\n",
      "[[-0.76366272 -0.6456154 ]\n",
      " [ 0.68506065 -0.72848604]]\n"
     ]
    }
   ],
   "source": [
    "w, v = LDA(classes)\n",
    "print(w)\n",
    "print(v)"
   ]
  },
  {
   "cell_type": "code",
   "execution_count": 5,
   "metadata": {
    "collapsed": false
   },
   "outputs": [
    {
     "name": "stdout",
     "output_type": "stream",
     "text": [
      "[[ 0.0056909]]\n",
      "[[ 3.53449678]]\n"
     ]
    }
   ],
   "source": [
    "print(S_calculator(v[0], classes))\n",
    "print(S_calculator(v[1], classes))"
   ]
  },
  {
   "cell_type": "code",
   "execution_count": 6,
   "metadata": {
    "collapsed": false
   },
   "outputs": [
    {
     "data": {
      "image/png": "[encoded data removed]",
      "text/plain": [
       "<matplotlib.figure.Figure at 0x7f0191a48898>"
      ]
     },
     "metadata": {},
     "output_type": "display_data"
    }
   ],
   "source": [
    "plotter(classes[0], 'ro')\n",
    "plotter(classes[1], 'bo')\n",
    "plotter(classes[2], 'ko')\n",
    "plt.title(\"Labled points\")\n",
    "plt.show()"
   ]
  },
  {
   "cell_type": "markdown",
   "metadata": {},
   "source": [
    "# Bigger the weight, the more separable points "
   ]
  },
  {
   "cell_type": "code",
   "execution_count": 7,
   "metadata": {
    "collapsed": false
   },
   "outputs": [
    {
     "data": {
      "image/png": "[encoded data removed]",
      "text/plain": [
       "<matplotlib.figure.Figure at 0x7f018edf42b0>"
      ]
     },
     "metadata": {},
     "output_type": "display_data"
    }
   ],
   "source": [
    "projection_plotter(classes[0], v, 'ro')\n",
    "projection_plotter(classes[1], v, 'bo')\n",
    "projection_plotter(classes[2], v, 'ko')\n",
    "plt.title(\"Mapping through LDA\")\n",
    "plt.show()"
   ]
  }
 ],
 "metadata": {
  "kernelspec": {
   "display_name": "Python 3",
   "language": "python",
   "name": "python3"
  },
  "language_info": {
   "codemirror_mode": {
    "name": "ipython",
    "version": 3
   },
   "file_extension": ".py",
   "mimetype": "text/x-python",
   "name": "python",
   "nbconvert_exporter": "python",
   "pygments_lexer": "ipython3",
   "version": "3.6.0"
  }
 },
 "nbformat": 4,
 "nbformat_minor": 2
}
