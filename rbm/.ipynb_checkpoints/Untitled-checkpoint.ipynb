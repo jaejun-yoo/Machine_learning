{
 "cells": [
  {
   "cell_type": "code",
   "execution_count": 2,
   "metadata": {
    "collapsed": true,
    "deletable": true,
    "editable": true
   },
   "outputs": [],
   "source": [
    "from utils import *"
   ]
  },
  {
   "cell_type": "markdown",
   "metadata": {
    "deletable": true,
    "editable": true
   },
   "source": [
    "# Restricted Bolzmann machines\n",
    "\n",
    "$\\textbf{v,h}\\in \\{0,1\\}^{m+n}$\n",
    "  \n",
    "&nbsp; $m$ : number of visible node  \n",
    "&nbsp; $n$ : number of hidden nodde  \n",
    "$\\textbf{v}$ : visilbe nodes $(v_1,v_2,\\cdots,v_m)^T$ ($m \\times 1 $ matrix)  \n",
    "$\\textbf{j}$ : hidden nodes $(h_1,h_2,\\cdots,h_n)^T$  ($n \\times 1 $ matrix)\n",
    "    \n",
    "$w_{i,j}, b_j, c_i \\in \\mathbb{R}$   \n",
    "$W : n \\times m $ matrix  \n",
    "$b : m \\times 1 $ matrix  \n",
    "$c : n \\times 1 $ matrix    \n",
    "$$E(\\textbf{v},\\textbf{h})= -\\sum_{i=1}^{n}\\sum_{j=1}^{m}w_{ij}h_iv_j-\\sum_{i=1}^nc_ih_i-\\sum_{j=1}^{m}b_jv_j$$\n",
    "$$\n",
    "= -\\mathbf{w}^TW\\mathbf{v}-c^T\\mathbf{h}-b^T\\mathbf{v}\n",
    "$$\n"
   ]
  },
  {
   "cell_type": "markdown",
   "metadata": {},
   "source": [
    "$$p(\\mathbf{v,h}) = \\frac{e^{-E(\\mathbf{v,h})}}{\\sum_{\\mathbf{v,h}}e^{-E(\\mathbf{v,h})}}$$"
   ]
  },
  {
   "cell_type": "markdown",
   "metadata": {},
   "source": [
    "# Likelihood\n",
    "$$\\mathcal{L}(\\theta|v)=p(\\mathbf{v}|\\theta)\n",
    "=\\frac{\\sum_{\\mathbf{h}}e^{-E(\\mathbf{v,h})}}{\\sum_{\\mathbf{v,h}}e^{-E(\\mathbf{v,h})}}$$\n",
    "\n",
    "$$\\ln\\mathcal{L}(\\theta|v)=\\ln p(\\mathbf{v}|\\theta)\n",
    "=\\ln{\\sum_{\\mathbf{h}}e^{-E(\\mathbf{v,h})}}\n",
    "-\\ln{\\sum_{\\mathbf{v,h}}e^{-E(\\mathbf{v,h})}}$$\n",
    "\n",
    "$$\\frac{\\partial\\ln\\mathcal{L}(\\theta|v)}{\\partial \\theta}\n",
    "=\\frac{\\partial}{\\partial \\theta} \\Big{(} \\ln{\\sum_{\\mathbf{h}}e^{-E(\\mathbf{v,h})}} \\Big{)}\n",
    "-\\frac{\\partial}{\\partial \\theta} \\Big{(} \\ln{\\sum_{\\mathbf{v,h}}e^{-E(\\mathbf{v,h})}} \\Big{)}$$\n",
    "\n",
    "$$=-\\frac{1}{\\sum_{\\mathbf{h}}e^{-E(\\mathbf{v,h})}}\n",
    "\\sum_{\\mathbf{h}}e^{-E(\\mathbf{v,h})}\\frac{\\partial E(\\mathbf{v,h})}{\\partial \\theta}\n",
    "+\\frac{1}{\\sum_{\\mathbf{v,h}}e^{-E(\\mathbf{v,h})}}\n",
    "\\sum_{\\mathbf{v,h}}e^{-E(\\mathbf{v,h})}\\frac{\\partial E(\\mathbf{v,h})}{\\partial \\theta}\n",
    "$$\n",
    "\n",
    "$$=-\\sum_{\\mathbf{h}}p(\\mathbf{h}|\\mathbf{v})\\frac{\\partial E(\\mathbf{v,h})}{\\partial \\theta}\n",
    "+\n",
    "\\sum_{\\mathbf{v,h}}p(\\mathbf{v},\\mathbf{h})\\frac{\\partial E(\\mathbf{v,h})}{\\partial \\theta}\n",
    "$$\n",
    "### note\n",
    "$$p(\\mathbf{h}|\\mathbf{v})=\\frac{p(\\mathbf{v,h})}{p(\\mathbf{v})}\n",
    "=\\frac{\\frac{1}{Z}e^{-E(\\mathbf{v,h})}}{\\frac{1}{Z}\\sum_{\\mathbf{h}}e^{-E(\\mathbf{v,h})}}\n",
    "(Z \\textsf{ is nomalizing constant})$$"
   ]
  },
  {
   "cell_type": "markdown",
   "metadata": {},
   "source": [
    "$$p(\\mathbf{h}|\\mathbf{v})=\\prod_{i=1}^n p(h_i|\\mathbf{v})$$\n",
    "\n",
    "$$p(H_i =1 | \\mathbf{v}) = sigmoid(\\sum_{j=1}^m w_{ij}v_j + c_i)$$\n",
    "$$p(V_j =1 | \\mathbf{h}) = sigmoid(\\sum_{j=1}^n w_{ij}v_j + b_j)$$ "
   ]
  },
  {
   "cell_type": "markdown",
   "metadata": {},
   "source": [
    "### Gradient of Liklihood\n",
    "$\\theta = w_{ij},b_{i},c_{i}$\n",
    "$$\\frac{\\partial\\ln\\mathcal{L}(\\theta|v)}{\\partial w_{ij}}=-\\sum_{\\mathbf{h}}p(\\mathbf{h}|\\mathbf{v})\\frac{\\partial E(\\mathbf{v,h})}{\\partial w_{ij}}\n",
    "+\n",
    "\\sum_{\\mathbf{v,h}}p(\\mathbf{v},\\mathbf{h})\\frac{\\partial E(\\mathbf{v,h})}{\\partial w_{ij}}\n",
    "$$\n",
    "\n",
    "$$=\\sum_{\\mathbf{h}}p(\\mathbf{h}|\\mathbf{v})h_iv_j\n",
    "+\\sum_{\\mathbf{v,h}}p(\\mathbf{v},\\mathbf{h})h_iv_j\n",
    "$$"
   ]
  },
  {
   "cell_type": "code",
   "execution_count": 5,
   "metadata": {
    "collapsed": true,
    "deletable": true,
    "editable": true
   },
   "outputs": [],
   "source": [
    "class RBM:\n",
    "    def __init__(self, m=10, n=5, k = 100):\n",
    "        '''\n",
    "            m : number of visible nodes\n",
    "            n : number of hidden nodes\n",
    "        '''\n",
    "        self.visible_node = m\n",
    "        self.hidden_node = n\n",
    "        self.k = k\n",
    "        \n",
    "        self.W = tf.Variable(initialize_variable([self.hidden_node, self.visible_node], Type = 'uniform'), name = 'weights')\n",
    "        self.b = tf.Variable(initialize_variable([self.visible_node], Type = 'uniform'), name = 'visible_biases')\n",
    "        self.c = tf.Variable(initialize_variable([self.hidden_node], Type = 'uniform'), name = 'hidden_biases')\n",
    "        \n",
    "        #Should be binary\n",
    "        self.visible = tf.placeholder(tf.float32, [None, self.visible_node])\n",
    "        self.hidden = tf.placeholder(tf.float32, [None, self.hidden_node])\n",
    "        \n",
    "        \n",
    "        self.sess = tf.Session()\n",
    "        self.sess.run(tf.global_variables_initializer())\n",
    "        \n",
    "        print_tensor(self.sess, self.W)\n",
    "        print_tensor(self.sess, self.b)\n",
    "        print_tensor(self.sess, self.c)\n",
    "            \n",
    "    def get_free_energy(self, v, h):\n",
    "        '''\n",
    "            input\n",
    "                v : 1D tensor m\n",
    "                h : 1D tensor n\n",
    "            return\n",
    "                free energy\n",
    "        '''\n",
    "        if h.get_shape().ndims!=1 or v.get_shape().ndims!=1:\n",
    "            raise ValueError(\"Dimension should be 1 but dimension h : {} and v : {}\"\n",
    "                                .format(h.get_shape().ndims, v.get_shape().ndims))\n",
    "            \n",
    "        if h.get_shape()[0]!=self.W.get_shape()[0] or v.get_shape()[0]!=self.W.get_shape()[1]:\n",
    "            raise ValueError(\"Size note matches with variables\")\n",
    "        \n",
    "        E1 = tf.matmul(tf.reshape(h, [1, -1]),self.W)\n",
    "        E1 = tf.matmul(E1,tf.reshape(v, [-1, 1]))\n",
    "        E1 = tf.reshape(E1, [1])\n",
    "        E2 = tf.reshape(tf.matmul(tf.reshape(self.b, [1, -1]), tf.reshape(v,[-1, 1])), [1])\n",
    "        E3 = tf.reshape(tf.matmul(tf.reshape(self.c, [1, -1]), tf.reshape(h,[-1, 1])), [1])\n",
    "        energy = -E1-E2-E3\n",
    "        print_tensor(self.sess, -E1-E2-E3)\n",
    "        return energy\n"
   ]
  },
  {
   "cell_type": "code",
   "execution_count": 6,
   "metadata": {
    "collapsed": false,
    "deletable": true,
    "editable": true
   },
   "outputs": [
    {
     "name": "stdout",
     "output_type": "stream",
     "text": [
      "weights_1:0\n",
      "(2, 3)\n",
      "[[ 0.49036193 -0.56113029 -0.0844965 ]\n",
      " [ 0.18333745  0.67606497 -0.73813701]]\n",
      "visible_biases_1:0\n",
      "(3,)\n",
      "[ 0.84280586 -0.60020018  0.71641779]\n",
      "hidden_biases_1:0\n",
      "(2,)\n",
      "[ 0.60457277 -0.66297674]\n",
      "sub_7:0\n",
      "(1,)\n",
      "[-1.93774056]\n"
     ]
    },
    {
     "data": {
      "text/plain": [
       "<tf.Tensor 'sub_5:0' shape=(1,) dtype=float32>"
      ]
     },
     "execution_count": 6,
     "metadata": {},
     "output_type": "execute_result"
    }
   ],
   "source": [
    "r = RBM(3,2)\n",
    "a = tf.constant([1,0,0], dtype =tf.float32)\n",
    "b = tf.constant([1,0],dtype = tf.float32)\n",
    "r.get_free_energy(a, b)"
   ]
  }
 ],
 "metadata": {
  "kernelspec": {
   "display_name": "Python 3",
   "language": "python",
   "name": "python3"
  },
  "language_info": {
   "codemirror_mode": {
    "name": "ipython",
    "version": 3
   },
   "file_extension": ".py",
   "mimetype": "text/x-python",
   "name": "python",
   "nbconvert_exporter": "python",
   "pygments_lexer": "ipython3",
   "version": "3.4.5"
  }
 },
 "nbformat": 4,
 "nbformat_minor": 2
}
