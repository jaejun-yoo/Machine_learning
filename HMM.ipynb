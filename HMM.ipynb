{
 "cells": [
  {
   "cell_type": "code",
   "execution_count": 1,
   "metadata": {
    "collapsed": true
   },
   "outputs": [],
   "source": [
    "import numpy as np\n",
    "import matplotlib.pyplot as plt\n",
    "import math"
   ]
  },
  {
   "cell_type": "code",
   "execution_count": 2,
   "metadata": {
    "collapsed": true
   },
   "outputs": [],
   "source": [
    "def normalizer(x):\n",
    "    temp = np.zeros(len(x))\n",
    "    sum = 0\n",
    "    for i in range(len(x)):\n",
    "        sum += x[i]\n",
    "    for i in range(len(x)):\n",
    "        temp[i]=x[i]/sum\n",
    "    return temp\n",
    "\n",
    "def random_row_generator(x, uniform = False):\n",
    "    if uniform:\n",
    "         return normalizer(np.ones(x))\n",
    "    return normalizer(np.random.rand(x))\n",
    "\n",
    "def random_sequence_generator(states, length):\n",
    "    return np.random.randint(states, size = length)\n"
   ]
  },
  {
   "cell_type": "code",
   "execution_count": 3,
   "metadata": {
    "collapsed": true
   },
   "outputs": [],
   "source": [
    "def print_setting(setting):\n",
    "    print(\"Initial probability\")\n",
    "    print(setting['initial'])\n",
    "    print(\"Transition matrix probability\")\n",
    "    print(setting['transition'])\n",
    "    print(\"Observation matrix probability\")\n",
    "    print(setting['observation'])"
   ]
  },
  {
   "cell_type": "markdown",
   "metadata": {},
   "source": [
    "# Initial problem setting"
   ]
  },
  {
   "cell_type": "code",
   "execution_count": 4,
   "metadata": {
    "collapsed": false
   },
   "outputs": [],
   "source": [
    "def HMM_initalization(observed_states, hidden_states, uniform =False):\n",
    "    initial = random_row_generator(hidden_states,uniform)\n",
    "    transition = []\n",
    "    observation = []\n",
    "    for i in range(hidden_states):\n",
    "        transition.append(random_row_generator(hidden_states,uniform))\n",
    "    for i in range(hidden_states):\n",
    "        observation.append(random_row_generator(observed_states,uniform))\n",
    "    transition = np.array(transition)\n",
    "    observation = np.array(observation)\n",
    "    return {'initial' : initial, 'transition' : transition, 'observation' : observation}"
   ]
  },
  {
   "cell_type": "code",
   "execution_count": 5,
   "metadata": {
    "collapsed": false
   },
   "outputs": [
    {
     "name": "stdout",
     "output_type": "stream",
     "text": [
      "Initial probability\n",
      "[ 0.19790694  0.58137064  0.22072241]\n",
      "Transition matrix probability\n",
      "[[ 0.60908932  0.35096578  0.0399449 ]\n",
      " [ 0.21167954  0.22360287  0.56471759]\n",
      " [ 0.35797615  0.60115251  0.04087134]]\n",
      "Observation matrix probability\n",
      "[[ 0.03701522  0.3318021   0.40932401  0.22185868]\n",
      " [ 0.32116568  0.39551895  0.0956106   0.18770477]\n",
      " [ 0.01454758  0.27432153  0.44831507  0.26281582]]\n"
     ]
    }
   ],
   "source": [
    "hstates = 3\n",
    "ostates = 4\n",
    "setting = HMM_initalization(ostates, hstates)\n",
    "print_setting(setting)"
   ]
  },
  {
   "cell_type": "markdown",
   "metadata": {},
   "source": [
    "# Evaluation Problem\n",
    "    Forward Recursion\n",
    "    Backwrd Recursion"
   ]
  },
  {
   "cell_type": "markdown",
   "metadata": {},
   "source": [
    "    Forward_k[i] = P(o1o2...ok, qk=si)  \n",
    "    Backward_k[i] = P(o(k+1)o(k+2)...oL|qk=si)"
   ]
  },
  {
   "cell_type": "code",
   "execution_count": 6,
   "metadata": {
    "collapsed": true
   },
   "outputs": [],
   "source": [
    "observed_length = 10"
   ]
  },
  {
   "cell_type": "code",
   "execution_count": 7,
   "metadata": {
    "collapsed": false
   },
   "outputs": [],
   "source": [
    "def encoding_problem(observed_sequence, initial, transition, observation):\n",
    "    '''\n",
    "    observed_sequence : 1D array \n",
    "                        each value(0 ~ observed_states-1)\n",
    "    initial : 1D array(hidden_states)\n",
    "                initial probability of hidden states\n",
    "    transition : 2D array(hidden_states*hidden_states)\n",
    "                transition probability of hidden_state to hidden state\n",
    "    observation : 2D array(hidden_states*observed_states)    \n",
    "                Observed probability of observed states for given hidden states\n",
    "    '''\n",
    "    hidden_states, observed_states = observation.shape\n",
    "    length = len(observed_sequence)\n",
    "    \n",
    "    if hidden_states!=len(initial) or hidden_states!=transition.shape[0] or hidden_states!=transition.shape[1]: \n",
    "        raise SizeError('Wrong input')    \n",
    "    \n",
    "    for i in range(length):\n",
    "        if observed_sequence[i]<observed_states:\n",
    "            continue\n",
    "        else:\n",
    "            raise WrongInputError('Observed sequence wrong')\n",
    "\n",
    "    forward = np.zeros((length,hidden_states))\n",
    "    for j in range(hidden_states):\n",
    "        forward[0][j] = initial[j]*observation[j][observed_sequence[0]]\n",
    "    for i in range(1, length):\n",
    "        for j in range(hidden_states):\n",
    "            for k in range(hidden_states):\n",
    "                forward[i][j] += forward[i-1][k]*transition[k][j]*observation[j][observed_sequence[i]]\n",
    "                \n",
    "    backward = np.zeros((length,hidden_states))\n",
    "    for j in range(hidden_states):\n",
    "        backward[length-1][j] = 1\n",
    "    for i in range(1,length):\n",
    "        for j in range(hidden_states):\n",
    "            for k in range(hidden_states):\n",
    "                backward[length-1-i][j] += transition[j][k]*observation[k][observed_sequence[length-i]]*backward[length-i][k]\n",
    "    return {'forward' : forward, 'backward' : backward}"
   ]
  },
  {
   "cell_type": "code",
   "execution_count": 8,
   "metadata": {
    "collapsed": false
   },
   "outputs": [
    {
     "name": "stdout",
     "output_type": "stream",
     "text": [
      "Observed_sequence\n",
      "[1 1 2 0 1 2 1 3 3 0]\n",
      "Observed_sequence_probability\n",
      "1.12209512053e-06\n",
      "Observed_sequence_probability\n",
      "1.12209512053e-06\n"
     ]
    }
   ],
   "source": [
    "sequence = random_sequence_generator(ostates,observed_length)\n",
    "\n",
    "init = setting['initial']\n",
    "transit = setting['transition']\n",
    "observe = setting['observation']\n",
    "\n",
    "result = encoding_problem(sequence, init, transit, observe)\n",
    "forward = result['forward']\n",
    "backward = result['backward']\n",
    "\n",
    "observed_sequence_probability = 0\n",
    "for i in range(hstates):\n",
    "    observed_sequence_probability+=init[i]*backward[0][i]*observe[i][sequence[0]]\n",
    "print(\"Observed_sequence\")\n",
    "print(sequence)\n",
    "print(\"Observed_sequence_probability\")\n",
    "print(np.sum(forward[observed_length-1]))  \n",
    "print(\"Observed_sequence_probability\")\n",
    "print(observed_sequence_probability)"
   ]
  },
  {
   "cell_type": "markdown",
   "metadata": {},
   "source": [
    "# Decoding problem\n",
    "    Viterbi Algorithm"
   ]
  },
  {
   "cell_type": "markdown",
   "metadata": {},
   "source": [
    "    viterbi_k[j]=max_(q1...q(k-1)){P(q1,q2,...,q(k_1),q_k=sj,o1o2...ok)}"
   ]
  },
  {
   "cell_type": "code",
   "execution_count": 9,
   "metadata": {
    "collapsed": false
   },
   "outputs": [],
   "source": [
    "def decoding_problem(observed_sequence, initial, transition, observation):\n",
    "    '''\n",
    "    observed_sequence : 1D array \n",
    "                        each value(0 ~ observed_states-1)\n",
    "    initial : 1D array(hidden_states)\n",
    "                initial probability of hidden states\n",
    "    transition : 2D array(hidden_states*hidden_states)\n",
    "                transition probability of hidden_state to hidden state\n",
    "    observation : 2D array(hidden_states*observed_states)    \n",
    "                Observed probability of observed states for given hidden states\n",
    "    '''  \n",
    "    \n",
    "    hidden_states, observed_states = observation.shape\n",
    "    length = len(observed_sequence)\n",
    "    \n",
    "    if hidden_states==len(initial) and hidden_states==transition.shape[0] and hidden_states==transition.shape[1]: \n",
    "        print(\"Hidden states : {}, observed states : {}\".format(hidden_states, observed_states))\n",
    "    else:\n",
    "        raise SizeError('Wrong input')\n",
    "    \n",
    "    for i in range(length):\n",
    "        if observed_sequence[i]<observed_states:\n",
    "            continue\n",
    "        else:\n",
    "            raise WrongInputError('Observed sequence wrong')\n",
    "    length = len(observed_sequence)\n",
    "    \n",
    "    back_tracking_table = np.zeros((length,hidden_states),dtype=np.int32)\n",
    "    viterbi = np.zeros((length,hidden_states))\n",
    "    for j in range(hidden_states):\n",
    "        viterbi[0][j] = initial[j]*observation[j][observed_sequence[0]]\n",
    "        back_tracking_table[0][j] = j\n",
    "    for i in range(1, length):\n",
    "        for j in range(hidden_states):\n",
    "            temp = np.zeros(hidden_states)\n",
    "            for k in range(hidden_states):\n",
    "                temp[k] = viterbi[i-1][k]*transition[k][j]*observation[j][observed_sequence[i]] \n",
    "            back_tracking_table[i][j] = np.argmax(temp)\n",
    "            viterbi[i][j] = np.max(temp)\n",
    "    hidden_sequence = np.zeros(length, dtype=np.int32)\n",
    "    hidden_sequence[length-1] = np.argmax(viterbi[length-1])\n",
    "    for i in range(1,length):\n",
    "        hidden_sequence[length-1-i] = back_tracking_table[length-i][hidden_sequence[length-i]]\n",
    "    return {'viterbi' : viterbi, 'hidden_sequence' : hidden_sequence}"
   ]
  },
  {
   "cell_type": "code",
   "execution_count": 10,
   "metadata": {
    "collapsed": false
   },
   "outputs": [
    {
     "name": "stdout",
     "output_type": "stream",
     "text": [
      "Observed_sequence\n",
      "[1 2 2 2 0 0 0 1 0 0]\n",
      "Hidden states : 3, observed states : 4\n",
      "Viterbi\n",
      "[[  6.56659383e-02   2.29943109e-01   6.05489106e-02]\n",
      " [  1.99235396e-02   4.91590902e-03   5.82150193e-02]\n",
      " [  8.53014382e-03   3.34599868e-03   1.24456758e-03]\n",
      " [  2.12669177e-03   2.86237932e-04   8.47111175e-04]\n",
      " [  4.79474905e-05   2.39716790e-04   2.35152363e-06]\n",
      " [  1.87826854e-06   1.72149181e-05   1.96933961e-06]\n",
      " [  1.34885166e-07   1.23626470e-06   1.41425305e-07]\n",
      " [  8.68299354e-08   1.09334230e-07   1.91514948e-07]\n",
      " [  2.53768153e-09   3.69757053e-08   8.98210883e-10]\n",
      " [  2.89718146e-10   2.65535734e-09   3.03765626e-10]]\n",
      "Hidden Sequence\n",
      "[1 2 0 0 1 1 1 2 1 1]\n"
     ]
    }
   ],
   "source": [
    "sequence = random_sequence_generator(ostates,observed_length)\n",
    "print(\"Observed_sequence\")\n",
    "print(sequence)\n",
    "result = decoding_problem(sequence, init, transit, observe)\n",
    "print(\"Viterbi\")\n",
    "print(result['viterbi'])\n",
    "print(\"Hidden Sequence\")\n",
    "print(result['hidden_sequence'])"
   ]
  },
  {
   "cell_type": "markdown",
   "metadata": {},
   "source": [
    "# Learning problem"
   ]
  },
  {
   "cell_type": "code",
   "execution_count": 11,
   "metadata": {
    "collapsed": true
   },
   "outputs": [],
   "source": [
    "def random_choice(states, p):\n",
    "    if states != len(p):\n",
    "        raise WrongstatesError\n",
    "    r = np.random.rand()*np.sum(p)\n",
    "    for i in range(states):\n",
    "        r-=p[i]\n",
    "        if r<=0:\n",
    "            return i"
   ]
  },
  {
   "cell_type": "code",
   "execution_count": 12,
   "metadata": {
    "collapsed": false
   },
   "outputs": [],
   "source": [
    "def observed_sequence_generator(length, initial, transition, observation):   \n",
    "    '''\n",
    "    length : length of seqs\n",
    "    initial : 1D array(hidden_states)\n",
    "                initial probability of hidden states\n",
    "    transition : 2D array(hidden_states*hidden_states)\n",
    "                transition probability of hidden_state to hidden state\n",
    "    observation : 2D array(hidden_states*observed_states)    \n",
    "                Observed probability of observed states for given hidden states\n",
    "    '''  \n",
    "    hidden_states, observed_states = observation.shape\n",
    "    \n",
    "    if hidden_states!=len(initial) or hidden_states!=transition.shape[0] or hidden_states!=transition.shape[1]: \n",
    "        raise SizeError('Wrong input')\n",
    "\n",
    "    hidden_seq = np.zeros(length, dtype=np.int32)\n",
    "    observed_seq = np.zeros(length, dtype =np.int32)\n",
    "    \n",
    "    hidden_seq[0] = random_choice(hidden_states, p=initial)\n",
    "\n",
    "    for i in range(1, length):\n",
    "        hidden_seq[i] = random_choice(hidden_states, p = transition[hidden_seq[i-1]])\n",
    "    \n",
    "    for i in range(length):\n",
    "        observed_seq[i] = random_choice(observed_states, p= observation[hidden_seq[i]])\n",
    "    return observed_seq"
   ]
  },
  {
   "cell_type": "code",
   "execution_count": 13,
   "metadata": {
    "collapsed": false
   },
   "outputs": [
    {
     "name": "stdout",
     "output_type": "stream",
     "text": [
      "Initial probability\n",
      "[ 0.46120296  0.26829301  0.27050403]\n",
      "Transition matrix probability\n",
      "[[ 0.75617402  0.04903152  0.19479446]\n",
      " [ 0.13500307  0.33182087  0.53317606]\n",
      " [ 0.4588737   0.16772477  0.37340153]]\n",
      "Observation matrix probability\n",
      "[[ 0.13300422  0.14353942  0.21729696  0.5061594 ]\n",
      " [ 0.38433613  0.3724088   0.23161303  0.01164204]\n",
      " [ 0.20243772  0.25998778  0.21550728  0.32206723]]\n"
     ]
    }
   ],
   "source": [
    "hstates = 3\n",
    "ostates = 4\n",
    "observed_length = 100\n",
    "observed_num = 1000\n",
    "answer_setting = HMM_initalization(ostates, hstates)\n",
    "print_setting(answer_setting)"
   ]
  },
  {
   "cell_type": "markdown",
   "metadata": {},
   "source": [
    "    gamma_k[i]=P(qk = si| o1o2...oL)\n",
    "    epsilon_k[i,j]=P(qk = si, q(k+1)=sj | o1o2...oL)"
   ]
  },
  {
   "cell_type": "code",
   "execution_count": 14,
   "metadata": {
    "collapsed": false
   },
   "outputs": [],
   "source": [
    "def Expectation(observed_sequence, initial, transition, observation):\n",
    "    result = encoding_problem(observed_sequence, initial, transition, observation)\n",
    "    forward = result['forward']\n",
    "    backward = result['backward']\n",
    "\n",
    "    hidden_states, observed_states = observation.shape\n",
    "    length = len(observed_sequence)\n",
    "\n",
    "    gamma = np.zeros((length, hidden_states))\n",
    "    epsilon = np.zeros((length-1, hidden_states, hidden_states))\n",
    "    \n",
    "    for i in range(length):\n",
    "        temp_sum = 0\n",
    "        for j in range(hidden_states):\n",
    "            temp_sum += forward[i][j]*backward[i][j]\n",
    "        for j in range(hidden_states):\n",
    "            gamma[i][j] = forward[i][j]*backward[i][j]/temp_sum\n",
    "    \n",
    "    for i in range(length-1):\n",
    "        temp_sum = 0\n",
    "        for j in range(hidden_states):\n",
    "            for k in range(hidden_states):\n",
    "                temp_sum += forward[i][j]*backward[i+1][k]*transition[j][k]*observation[k][observed_sequence[i+1]]\n",
    "        for j in range(hidden_states):\n",
    "            for k in range(hidden_states):\n",
    "                epsilon[i][j][k] = forward[i][j]*backward[i+1][k]*transition[j][k]*observation[k][observed_sequence[i+1]]/temp_sum\n",
    "    return {'gamma' : gamma, 'epsilon' : epsilon}"
   ]
  },
  {
   "cell_type": "code",
   "execution_count": 15,
   "metadata": {
    "collapsed": false
   },
   "outputs": [],
   "source": [
    "def Maximization(observed_sequences, gamma, epsilon, observed_states, hidden_states):\n",
    "    initial = np.zeros(hidden_states)\n",
    "    transition = np.zeros((hidden_states,hidden_states))\n",
    "    observation = np.zeros((hidden_states, observed_states))\n",
    "    data_size, length = observed_sequences.shape\n",
    "    \n",
    "    for i in range(hidden_states):\n",
    "        for d in range(data_size):\n",
    "            initial[i] += gamma[d][0][i]\n",
    "        initial[i]/=data_size\n",
    "    \n",
    "    for i in range(hidden_states):\n",
    "        for j in range(hidden_states):\n",
    "            temp1 = 0\n",
    "            temp2 = 0\n",
    "            for d in range(data_size):\n",
    "                for l in range(length-1):\n",
    "                    temp1 += epsilon[d][l][i][j]\n",
    "                    temp2 += gamma[d][l][i]\n",
    "            transition[i][j] = temp1/temp2\n",
    "    \n",
    "    for i in range(hidden_states):\n",
    "        for j in range(observed_states):\n",
    "            temp1 = 0\n",
    "            temp2 = 0\n",
    "            for d in range(data_size):\n",
    "                for l in range(length):\n",
    "                    if observed_sequences[d][l]==j:\n",
    "                        temp1+=gamma[d][l][i]\n",
    "                    temp2+=gamma[d][l][i]\n",
    "            observation[i][j] = temp1/temp2\n",
    "    return {'initial' : initial, 'transition' : transition, 'observation' : observation}"
   ]
  },
  {
   "cell_type": "code",
   "execution_count": 16,
   "metadata": {
    "collapsed": false
   },
   "outputs": [
    {
     "name": "stdout",
     "output_type": "stream",
     "text": [
      "(1000, 100)\n"
     ]
    }
   ],
   "source": [
    "observed_storage = []\n",
    "for i in range(observed_num):\n",
    "    observed_storage.append(observed_sequence_generator(observed_length, answer_setting['initial']\n",
    "                                ,answer_setting['transition']\n",
    "                                ,answer_setting['observation']))\n",
    "observed_storage = np.array(observed_storage)\n",
    "print(observed_storage.shape)\n",
    "\n",
    "#print_setting(answer_setting)\n",
    "#print(observed_storage)"
   ]
  },
  {
   "cell_type": "code",
   "execution_count": null,
   "metadata": {
    "collapsed": true
   },
   "outputs": [],
   "source": [
    "def probability(seq, initial, transition, observation):\n",
    "    return np.sum(encoding_problem(seq, initial, transition, observation)['forward'][observed_length-1])"
   ]
  },
  {
   "cell_type": "code",
   "execution_count": null,
   "metadata": {
    "collapsed": false
   },
   "outputs": [
    {
     "name": "stdout",
     "output_type": "stream",
     "text": [
      "Initial probability\n",
      "[ 0.46120296  0.26829301  0.27050403]\n",
      "Transition matrix probability\n",
      "[[ 0.75617402  0.04903152  0.19479446]\n",
      " [ 0.13500307  0.33182087  0.53317606]\n",
      " [ 0.4588737   0.16772477  0.37340153]]\n",
      "Observation matrix probability\n",
      "[[ 0.13300422  0.14353942  0.21729696  0.5061594 ]\n",
      " [ 0.38433613  0.3724088   0.23161303  0.01164204]\n",
      " [ 0.20243772  0.25998778  0.21550728  0.32206723]]\n",
      "Initial probability\n",
      "[ 0.00755383  0.54397155  0.44847462]\n",
      "Transition matrix probability\n",
      "[[ 0.34674602  0.30873575  0.34451823]\n",
      " [ 0.31089644  0.07351654  0.61558701]\n",
      " [ 0.24633701  0.32459025  0.42907274]]\n",
      "Observation matrix probability\n",
      "[[ 0.23277742  0.30473861  0.23127666  0.23120731]\n",
      " [ 0.49469571  0.3178255   0.0720471   0.11543169]\n",
      " [ 0.21805139  0.37654569  0.12688963  0.27851329]]\n",
      "Challenge probability : -133166.99644814324\n"
     ]
    }
   ],
   "source": [
    "print_setting(answer_setting)\n",
    "Learning_setting = HMM_initalization(ostates, hstates)\n",
    "print_setting(Learning_setting)\n",
    "\n",
    "answer_probability = 0\n",
    "for dataset in range(len(observed_storage, uniform=True)):\n",
    "    answer_probability += math.log(probability(observed_storage[dataset]\n",
    "                            ,answer_setting['initial']\n",
    "                            ,answer_setting['transition']\n",
    "                            ,answer_setting['observation']))\n",
    "print(\"Challenge probability : {}\".format(answer_probability))\n",
    "\n",
    "\n",
    "iteration = 100\n",
    "Learn_probability = np.zeros(iteration)\n",
    "for iter in range(iteration):\n",
    "    gamma_set = []\n",
    "    epsilon_set = []\n",
    "    for dataset in range(len(observed_storage)):\n",
    "        temp = Expectation(observed_storage[dataset]\n",
    "                            ,Learning_setting['initial']\n",
    "                            ,Learning_setting['transition']\n",
    "                            ,Learning_setting['observation'])\n",
    "        gamma_set.append(temp['gamma'])\n",
    "        epsilon_set.append(temp['epsilon'])\n",
    "    gamma_set = np.array(gamma_set)\n",
    "    epsilon_set = np.array(epsilon_set)\n",
    "    Learning_setting = Maximization(observed_storage, gamma_set, epsilon_set, ostates, hstates)\n",
    "    \n",
    "    for dataset in range(len(observed_storage)):\n",
    "        Learn_probability[iter] += math.log(probability(observed_storage[dataset]\n",
    "                                        ,Learning_setting['initial']\n",
    "                                        ,Learning_setting['transition']\n",
    "                                        ,Learning_setting['observation']))\n",
    "print_setting(Learning_setting)\n",
    "\n",
    "plt.plot(Learn_probability)\n",
    "plt.axhline(y=answer_probability, xmin=0, xmax=iteration, linewidth=2, color = 'k')\n",
    "plt.show()"
   ]
  }
 ],
 "metadata": {
  "kernelspec": {
   "display_name": "Python 3",
   "language": "python",
   "name": "python3"
  },
  "language_info": {
   "codemirror_mode": {
    "name": "ipython",
    "version": 3
   },
   "file_extension": ".py",
   "mimetype": "text/x-python",
   "name": "python",
   "nbconvert_exporter": "python",
   "pygments_lexer": "ipython3",
   "version": "3.6.0"
  }
 },
 "nbformat": 4,
 "nbformat_minor": 2
}
