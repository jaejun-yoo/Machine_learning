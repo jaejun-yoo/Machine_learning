{
 "cells": [
  {
   "cell_type": "markdown",
   "metadata": {},
   "source": [
    "# Spectral Theorem\n",
    "\n",
    "real symmetric $\\Leftrightarrow$ othogonally digonalizable "
   ]
  },
  {
   "cell_type": "markdown",
   "metadata": {},
   "source": [
    "$ P=[b_1, b_1, \\cdots, b_n]$\n",
    "$$b_i \\cdot b_j =\n",
    "\\left\\{ \n",
    "\\begin{array}{11}\n",
    "0 & \\textrm{if i$\\neq$ j}\n",
    "\\\\\n",
    "1 & \\textrm{if i = j}\n",
    "\\end{array}\n",
    "\\right.\n",
    "$$\n",
    "$\\therefore PP^T= I_n$"
   ]
  },
  {
   "cell_type": "markdown",
   "metadata": {},
   "source": [
    "$\\textrm{proof)} $  "
   ]
  },
  {
   "cell_type": "markdown",
   "metadata": {},
   "source": [
    "#### Induction hypothesis\n",
    "for $n\\times n matrix$, use induction on $n$  \n",
    "when $n=1$, trivial \n",
    "Suppose $n=k-1$,  \n",
    "$n \\times n$ symmetric matrix is orthoganlly digonalizable "
   ]
  },
  {
   "cell_type": "markdown",
   "metadata": {},
   "source": [
    "#### Generating orthonormal biases from a eigen vector\n",
    "Get a $w_1, \\lambda_1$ such that\n",
    "$$Aw_1 = \\lambda_1 w_1$$  \n",
    "$$v_1 = \\frac{w_1}{||w_1||}$$\n",
    "Generate orthonormal basis for $\\mathbb{R}^n$\n",
    "$$B = \\{v_1,\\cdots, v_n\\}$$\n",
    "by Gram Schmidt  "
   ]
  },
  {
   "cell_type": "markdown",
   "metadata": {},
   "source": [
    "#### Final remark\n",
    "Let $P = [v_1, \\cdots, v_n]$ (but, $v_i : n\\times 1 matrix$)  \n",
    "Then, $$PP^T=I$$\n",
    "\n",
    "$$(P^TAP)^T=P^TA^TP=P^TAP$$\n",
    "\n",
    "$e_1 = [1,0,\\cdots,0]^T$  \n",
    "$$P^TAPe_1 = P^T A v_1=P^T\\lambda_1 v_1 = \\lambda_1 P^Tv_1=\\lambda_1e_1$$\n",
    "\n",
    "($\\because P^Tv_1=\\begin{bmatrix} \n",
    "v_1^T \\\\\n",
    "\\vdots \\\\\n",
    "v_n^T\n",
    "\\end{bmatrix} v_1=\\begin{bmatrix} \n",
    "v_1^Tv_1 \\\\\n",
    "\\vdots \\\\\n",
    "v_n^Tv_1\n",
    "\\end{bmatrix}= \\begin{bmatrix} \n",
    "1 \\\\\n",
    "\\vdots \\\\\n",
    "0\n",
    "\\end{bmatrix}=e_1$)\n",
    "\n",
    "$$P^TAP = \\begin{bmatrix} \\lambda_1 & \\mathbf{0}\\\\ \\mathbf{0} & B\\end{bmatrix}$$\n",
    "\n",
    "Then, easy to prove with the induction hypothesis"
   ]
  }
 ],
 "metadata": {
  "kernelspec": {
   "display_name": "Python 3",
   "language": "python",
   "name": "python3"
  },
  "language_info": {
   "codemirror_mode": {
    "name": "ipython",
    "version": 3
   },
   "file_extension": ".py",
   "mimetype": "text/x-python",
   "name": "python",
   "nbconvert_exporter": "python",
   "pygments_lexer": "ipython3",
   "version": "3.6.0"
  }
 },
 "nbformat": 4,
 "nbformat_minor": 2
}
