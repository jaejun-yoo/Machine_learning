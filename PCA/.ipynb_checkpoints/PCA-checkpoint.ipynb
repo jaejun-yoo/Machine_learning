{
 "cells": [
  {
   "cell_type": "markdown",
   "metadata": {
    "deletable": true,
    "editable": true
   },
   "source": [
    "# PCA\n",
    "reference [PCA](http://darkpgmr.tistory.com/110)"
   ]
  },
  {
   "cell_type": "markdown",
   "metadata": {},
   "source": [
    "# PCA proof\n",
    "The project of $x$ on $e$  \n",
    "$x$ is the arbitrary data point($n\\times 1$)\n",
    "$e$ is the unit vector($n\\times 1$)\n",
    "\n",
    "$$|Proj_e(x)| = x^Te$$\n",
    "$$\\Sigma = E[(x-\\mu)(x-\\mu)^T]$$\n",
    "$\\Sigma$ is $n\\times n$ matrix\n",
    "\n",
    "$$\\mu = E[x]$$"
   ]
  },
  {
   "cell_type": "markdown",
   "metadata": {},
   "source": [
    "# PCA proof\n",
    "The project of $x$ on $e$  \n",
    "  \n",
    "$x$ is the arbitrary data point($n\\times 1$)  \n",
    "$e$ is the unit vector($n\\times 1$)  $e^Te = 1$ \n",
    "\n",
    "$$|Proj_e(x)| = x^Te$$\n",
    "$$\\Sigma = E[(x-\\mu)(x-\\mu)^T]$$\n",
    "$\\Sigma$ is $n\\times n$ matrix\n",
    "\n",
    "$$\\mu = E[x]$$"
   ]
  },
  {
   "cell_type": "markdown",
   "metadata": {},
   "source": [
    "Projection domain mean $\\mu_0$\n",
    "$$\\mu_0=E[x^Te]=E[x^T]e=\\mu^Te$$\n",
    "Projection domain covariance $\\sigma_0$\n",
    "$$\\sigma_0 = E[(x^Te-\\mu^Te)^2]=E[((x^T-\\mu^T)e)^T((x^T-\\mu^T)e)]$$  \n",
    "  \n",
    "$$=E[e^T(x-\\mu)(x-\\mu)^Te)]$$\n",
    "  \n",
    "$$=e^TE[(x-\\mu)(x-\\mu)^T)]e=e^T\\Sigma e$$\n"
   ]
  },
  {
   "cell_type": "markdown",
   "metadata": {},
   "source": [
    "$\\Sigma$ is a positive definite symmetric matrix  \n",
    "$\\Sigma = PDP^T$(but, $D$ is a digonal matrix $PP^T=I$)  \n",
    "$$\\sigma_0 =(P^Te)^TD(P^Te)$$\n",
    "  \n",
    "let $z = P^Te$. Then, $z^Tz= e^TPP^Te = e^TIe = e^Te = 1$"
   ]
  },
  {
   "cell_type": "markdown",
   "metadata": {},
   "source": [
    "$$\\sigma_0 = z^TDz $$\n",
    "maximum when $z=(1,0,\\cdots,0)^T$\n",
    "$$P^Te = (1,0,\\cdots,0)^T $$\n",
    "$$e = P(1,0,\\cdots, 0)^T $$\n",
    "$$\\Sigma e = PDP^T P(1,0,\\cdots, 0)^T = PD(1,0,\\cdots,0)^T = P(\\lambda,0,\\cdots,0)^T=\\lambda e $$"
   ]
  },
  {
   "cell_type": "code",
   "execution_count": 1,
   "metadata": {
    "collapsed": false,
    "deletable": true,
    "editable": true
   },
   "outputs": [],
   "source": [
    "import numpy as np\n",
    "from sklearn.decomposition import PCA\n",
    "import matplotlib.pyplot as plt"
   ]
  },
  {
   "cell_type": "markdown",
   "metadata": {
    "deletable": true,
    "editable": true
   },
   "source": [
    "# Data distribution"
   ]
  },
  {
   "cell_type": "code",
   "execution_count": 2,
   "metadata": {
    "collapsed": false,
    "deletable": true,
    "editable": true
   },
   "outputs": [
    {
     "data": {
      "image/png": "[encoded data removed]",
      "text/plain": [
       "<matplotlib.figure.Figure at 0x7f9d9322a6a0>"
      ]
     },
     "metadata": {},
     "output_type": "display_data"
    }
   ],
   "source": [
    "data=np.array([[-1, -1], [-2, -1], [-3, -2], [1, 1], [2, 1], [3, 2]])\n",
    "for i in range(len(data)):\n",
    "    plt.plot(data[i][0],data[i][1],'ko')\n",
    "plt.title('Data distribution')\n",
    "plt.show()"
   ]
  },
  {
   "cell_type": "markdown",
   "metadata": {},
   "source": [
    "# Numpy usage"
   ]
  },
  {
   "cell_type": "code",
   "execution_count": 3,
   "metadata": {
    "collapsed": false
   },
   "outputs": [
    {
     "name": "stdout",
     "output_type": "stream",
     "text": [
      "The variance ratio of each component = [ 0.99244289  0.00755711]\n",
      "Components of PCA : [ 0.83849224  0.54491354], [-0.54491354  0.83849224]\n"
     ]
    }
   ],
   "source": [
    "w, v = np.linalg.eig(np.cov(data.T)) # w : eigen vlaue v : eigen vector\n",
    "print(\"The variance ratio of each component = {}\".format(w/np.sum(w)))\n",
    "print(\"Components of PCA : {}, {}\".format(v.T[0], v.T[1]))"
   ]
  },
  {
   "cell_type": "code",
   "execution_count": 4,
   "metadata": {
    "collapsed": false
   },
   "outputs": [
    {
     "data": {
      "image/png": "[encoded data removed]",
      "text/plain": [
       "<matplotlib.figure.Figure at 0x7f9d934f0b00>"
      ]
     },
     "metadata": {},
     "output_type": "display_data"
    }
   ],
   "source": [
    "transformed_data = []\n",
    "for i in range(len(data)):\n",
    "    transformed_data.append([np.dot(data[i], v.T[0]), np.dot(data[i], v.T[1])])\n",
    "transformed_data = np.array(transformed_data)\n",
    "for i in range(len(transformed_data)):\n",
    "    plt.plot(transformed_data[i][0],transformed_data[i][1],'ko')\n",
    "\n",
    "plt.title('Data distribution on PCA components')    \n",
    "plt.ylim(ymax = 5, ymin = -5)\n",
    "plt.show()"
   ]
  },
  {
   "cell_type": "markdown",
   "metadata": {},
   "source": [
    "# Sklearn libray usage"
   ]
  },
  {
   "cell_type": "markdown",
   "metadata": {
    "deletable": true,
    "editable": true
   },
   "source": [
    "# PCA implementation\n",
    "1. PCA components(eigen vectors of covariance matrix) \n",
    "    * There are orthogonal\n",
    "2. PCA.explained_variance_ratio(high variance => major principal components"
   ]
  },
  {
   "cell_type": "code",
   "execution_count": 5,
   "metadata": {
    "collapsed": false,
    "deletable": true,
    "editable": true
   },
   "outputs": [
    {
     "name": "stdout",
     "output_type": "stream",
     "text": [
      "Components of PCA : [-0.83849224 -0.54491354],[ 0.54491354 -0.83849224]\n",
      "The variance ratio of each component=[ 0.99244289  0.00755711]\n"
     ]
    }
   ],
   "source": [
    "pca=PCA(n_components=2)\n",
    "pca.fit(data)\n",
    "print(\"Components of PCA : {},{}\".format(pca.components_[0],pca.components_[1]))\n",
    "print(\"The variance ratio of each component={}\".format(pca.explained_variance_ratio_))"
   ]
  },
  {
   "cell_type": "markdown",
   "metadata": {
    "deletable": true,
    "editable": true
   },
   "source": [
    "## transformed_data\n",
    "1. the poisition of points on the pca_components axis\n",
    "2. ** sum for every k \n",
    "      **transformed_data(i)(k)*pca.components(k) (which makes original points (i) )"
   ]
  },
  {
   "cell_type": "code",
   "execution_count": 6,
   "metadata": {
    "collapsed": false,
    "deletable": true,
    "editable": true
   },
   "outputs": [
    {
     "name": "stdout",
     "output_type": "stream",
     "text": [
      "[[ 1.38340578  0.2935787 ]\n",
      " [ 2.22189802 -0.25133484]\n",
      " [ 3.6053038   0.04224385]\n",
      " [-1.38340578 -0.2935787 ]\n",
      " [-2.22189802  0.25133484]\n",
      " [-3.6053038  -0.04224385]]\n"
     ]
    },
    {
     "data": {
      "image/png": "[encoded data removed]",
      "text/plain": [
       "<matplotlib.figure.Figure at 0x7f9d90b2a470>"
      ]
     },
     "metadata": {},
     "output_type": "display_data"
    }
   ],
   "source": [
    "transformed_data=pca.transform(data)\n",
    "print(transformed_data)\n",
    "for i in range(len(transformed_data)):\n",
    "    plt.plot(transformed_data[i][0],transformed_data[i][1], 'ko')\n",
    "\n",
    "plt.title('Data distribution on PCA components')    \n",
    "plt.ylim(ymax = 5, ymin = -5)\n",
    "plt.show()"
   ]
  },
  {
   "cell_type": "code",
   "execution_count": 7,
   "metadata": {
    "collapsed": false,
    "deletable": true,
    "editable": true
   },
   "outputs": [
    {
     "name": "stdout",
     "output_type": "stream",
     "text": [
      "Data restoration =(-1.0,-1.0)\n",
      "Originl data =(-1,-1)\n",
      "Data restoration =(-2.0,-1.0)\n",
      "Originl data =(-2,-1)\n",
      "Data restoration =(-3.0,-2.0)\n",
      "Originl data =(-3,-2)\n",
      "Data restoration =(1.0,1.0)\n",
      "Originl data =(1,1)\n",
      "Data restoration =(2.0,1.0)\n",
      "Originl data =(2,1)\n",
      "Data restoration =(3.0,2.0)\n",
      "Originl data =(3,2)\n"
     ]
    },
    {
     "data": {
      "image/png": "[encoded data removed]",
      "text/plain": [
       "<matplotlib.figure.Figure at 0x7f9d90b16828>"
      ]
     },
     "metadata": {},
     "output_type": "display_data"
    }
   ],
   "source": [
    "plt.cla()\n",
    "for ii,jj in zip(transformed_data, data):\n",
    "    plt.scatter(pca.components_[0][0]*ii[0],pca.components_[0][1]*ii[0],color=\"r\")\n",
    "    plt.scatter(pca.components_[1][0]*ii[1],pca.components_[1][1]*ii[1],color=\"c\")\n",
    "    print(\"Data restoration =({},{})\".format(pca.components_[0][0]*ii[0]+pca.components_[1][0]*ii[1],pca.components_[0][1]*ii[0]+pca.components_[1][1]*ii[1]))\n",
    "    print(\"Originl data =({},{})\".format(jj[0],jj[1]))\n",
    "    plt.scatter(jj[0],jj[1],color=\"b\")\n",
    "plt.title(\"PCA result\")\n",
    "plt.show()"
   ]
  },
  {
   "cell_type": "markdown",
   "metadata": {
    "deletable": true,
    "editable": true
   },
   "source": [
    "# How about PCA_components smaller than dimension of vector\n",
    "1. ** pca=PCA(n_components=k) ** k is the number of primitive vectors\n",
    "2. **transform(data) **change data to the axies of pca.components "
   ]
  },
  {
   "cell_type": "code",
   "execution_count": 8,
   "metadata": {
    "collapsed": false,
    "deletable": true,
    "editable": true
   },
   "outputs": [
    {
     "name": "stdout",
     "output_type": "stream",
     "text": [
      "PCA(n_components=2) result\n",
      "Components of PCA : [ 0.27446624  0.54513916  0.79214366],[ 0.05130266  0.81430487 -0.57816574]\n",
      "The variance ratio of each component=[ 0.87892428  0.11938379]\n",
      "Distribution of data on PCA components axes : [[-2.99800046  0.72434824]\n",
      " [-4.08827879 -0.90426149]\n",
      " [ 4.18621596 -1.59159685]\n",
      " [ 2.9000633   1.7715101 ]]\n",
      "PCA(n_components=3) result\n",
      "Components of PCA : [ 0.27446624  0.54513916  0.79214366],[ 0.05130266  0.81430487 -0.57816574]\n",
      "The variance ratio of each component=[ 0.87892428  0.11938379  0.00169193]\n",
      "Distribution of data on PCA components axes : [[-2.99800046  0.72434824  0.22318789]\n",
      " [-4.08827879 -0.90426149 -0.17546421]\n",
      " [ 4.18621596 -1.59159685  0.07011026]\n",
      " [ 2.9000633   1.7715101  -0.11783394]]\n"
     ]
    }
   ],
   "source": [
    "data=np.array([[-1, -1, -2],[ -1, -3, -2], [1, 1, 5], [1, 3, 2]])\n",
    "pca=PCA(n_components=2)\n",
    "pca.fit(data)\n",
    "print(\"PCA(n_components=2) result\")\n",
    "print(\"Components of PCA : {},{}\".format(pca.components_[0],pca.components_[1]))\n",
    "print(\"The variance ratio of each component={}\".format(pca.explained_variance_ratio_))\n",
    "\n",
    "print(\"Distribution of data on PCA components axes : {}\".format(pca.transform(data)))\n",
    "pca2=PCA(n_components=3)\n",
    "pca2.fit(data)\n",
    "print(\"PCA(n_components=3) result\")\n",
    "print(\"Components of PCA : {},{}\".format(pca2.components_[0],pca2.components_[1]))\n",
    "print(\"The variance ratio of each component={}\".format(pca2.explained_variance_ratio_))\n",
    "print(\"Distribution of data on PCA components axes : {}\".format(pca2.transform(data)))"
   ]
  }
 ],
 "metadata": {
  "anaconda-cloud": {},
  "kernelspec": {
   "display_name": "Python 3",
   "language": "python",
   "name": "python3"
  },
  "language_info": {
   "codemirror_mode": {
    "name": "ipython",
    "version": 3
   },
   "file_extension": ".py",
   "mimetype": "text/x-python",
   "name": "python",
   "nbconvert_exporter": "python",
   "pygments_lexer": "ipython3",
   "version": "3.6.0"
  }
 },
 "nbformat": 4,
 "nbformat_minor": 1
}
